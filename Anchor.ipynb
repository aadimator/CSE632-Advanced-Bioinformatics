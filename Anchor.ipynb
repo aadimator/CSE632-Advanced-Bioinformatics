{
 "cells": [
  {
   "cell_type": "markdown",
   "metadata": {},
   "source": [
    "# Extract anchors\n",
    "Extract the anchors from a group of strings. Anchors are the common substrings among all the given strings."
   ]
  },
  {
   "cell_type": "code",
   "execution_count": 1,
   "metadata": {},
   "outputs": [],
   "source": [
    "import numpy as np\n",
    "\n",
    "from ga import GA_MSA\n",
    "from os import listdir\n",
    "from ntpath import basename\n",
    "from os.path import isfile, join\n",
    "from collections import defaultdict\n",
    "\n",
    "from Bio import SeqIO\n",
    "from Bio.Seq import Seq\n",
    "from Bio.SeqRecord import SeqRecord\n",
    "from Bio.Alphabet import IUPAC"
   ]
  },
  {
   "cell_type": "code",
   "execution_count": 2,
   "metadata": {},
   "outputs": [],
   "source": [
    "data_dir = join(\"..\", \"msa_data\")\n",
    "\n",
    "ref_dir = join(data_dir, \"Ref11\")\n",
    "\n",
    "true_aln_dir = join(ref_dir, \"true_alignment\")\n",
    "unaligned_dir = join(ref_dir, \"unaligned\")\n",
    "clustalo_dir = join(ref_dir, \"clustalo\")\n",
    "muscle_dir = join(ref_dir, \"muscle\")\n",
    "mafft_dir = join(ref_dir, \"mafft\")\n",
    "prank_dir = join(ref_dir, \"prank\")\n",
    "tcoffee_dir = join(ref_dir, \"tcoffee\")\n",
    "xml_dir = join(ref_dir, \"xml\")\n",
    "output_dir = join(ref_dir, \"anchor_ga\")\n",
    "\n",
    "def get_files(dir_name):\n",
    "    return [join(dir_name, f) for f in listdir(dir_name) if isfile(join(dir_name, f))]\n",
    "\n",
    "true_aln_files = get_files(true_aln_dir)\n",
    "unaligned_files = get_files(unaligned_dir)\n",
    "clustalo_files = get_files(clustalo_dir)\n",
    "muscle_files = get_files(muscle_dir)\n",
    "mafft_files = get_files(mafft_dir)\n",
    "prank_files = get_files(prank_dir)\n",
    "tcoffee_files = get_files(tcoffee_dir)\n",
    "xml_files = get_files(xml_dir)\n",
    "output_files = get_files(output_dir)\n",
    "\n",
    "aligners_list = [clustalo_files, muscle_files, mafft_files, prank_files, tcoffee_files]\n"
   ]
  },
  {
   "cell_type": "code",
   "execution_count": 3,
   "metadata": {
    "tags": []
   },
   "outputs": [],
   "source": [
    "def get_file_list(file_id):\n",
    "    return [aligner[file_id] for aligner in aligners_list]\n",
    "\n",
    "def sequence_dict(file_list):\n",
    "    alignments = defaultdict(list)\n",
    "    for f in file_list:\n",
    "        with open(f, \"rU\") as handle:\n",
    "            for record in SeqIO.parse(handle, \"fasta\"):\n",
    "                alignments[record.id].append(str(record.seq))\n",
    "\n",
    "    return alignments\n",
    "\n",
    "def alignments_array(seq_dict):\n",
    "    alignments = defaultdict(list)\n",
    "    for k in seq_dict:\n",
    "        for (i, aln) in enumerate(seq_dict[k]):\n",
    "            alignments[i].append(aln)\n",
    "    aln_array = np.array([np.array(l) for l in alignments.values()])\n",
    "    return aln_array\n",
    "\n",
    "def has_equal_sizes(aln_array):\n",
    "    for l in aln_array:\n",
    "        if not all([len(l[0]) == len(s) for s in l]):\n",
    "            return False\n",
    "    return True\n",
    "\n",
    "def substring(seq_list, start=0, window=3):\n",
    "    st = \"\"\n",
    "    for l in seq_list:\n",
    "        st += l[start:start+window]\n",
    "    return st\n",
    "\n",
    "def aln_substring(aln_array, start=0, window=3, search_area=10):\n",
    "    aln_substrs = np.array([substring(seq, start=start, window=window) for seq in aln_array])\n",
    "    min_index = np.argmin([len(l[0]) for l in aln_array])\n",
    "    anchor_substring = aln_substrs[min_index]\n",
    "    equal_to_anchor = aln_substrs == anchor_substring\n",
    "    if not np.all(equal_to_anchor):\n",
    "        for i in np.where(~(equal_to_anchor))[0]:\n",
    "            for sa in range(1, min(search_area, len(aln_array[i][0]))):\n",
    "                new_substr = substring(aln_array[i], start=(start+sa), window=window)\n",
    "                if new_substr == anchor_substring:\n",
    "                    aln_substrs[i] = new_substr\n",
    "                    break\n",
    "\n",
    "    return aln_substrs\n",
    "\n",
    "def get_anchors(aln_array):\n",
    "    min_size = np.min([len(l[0]) for l in aln_array])\n",
    "    anchors = list()\n",
    "    s = 0\n",
    "    w = 3\n",
    "    \n",
    "    while s < min_size:\n",
    "        aligned_sub = False\n",
    "        aln_substr = aln_substring(aln_array, start=s, window=w)\n",
    "        while np.all(aln_substr == aln_substr[0]):\n",
    "            aligned_sub = True\n",
    "            w += 1\n",
    "            aln_substr = aln_substring(aln_array, start=s, window=w)\n",
    "        if aligned_sub:\n",
    "            anchors.append((s, w-1))\n",
    "            s += w\n",
    "        else:\n",
    "            s += 1\n",
    "    return anchors\n",
    "        \n",
    "def get_unaligned_pos(aln_array, anchors):\n",
    "    sizes = [len(l[0]) for l in aln_array]\n",
    "    min_size = np.min(sizes)\n",
    "    min_index = np.argmin(sizes)\n",
    "    aln = aln_array[min_index]\n",
    "    sequences = list()\n",
    "    s = 0\n",
    "    for (anchor_start, anchor_window) in anchors:\n",
    "        sequences.append((s, anchor_start))\n",
    "        s = anchor_start + anchor_window\n",
    "    sequences.append((s, min_size))\n",
    "    return sequences\n",
    "\n",
    "def get_unaligned_seq(aln_array, unaln_pos):\n",
    "    sequences = defaultdict(list)\n",
    "    min_index = np.argmin([len(l[0]) for l in aln_array])\n",
    "    for (i, seq) in enumerate(aln_array[min_index]):\n",
    "        for (s, e) in unaln_pos:\n",
    "            sequences[i].append(seq[s:e])\n",
    "    seq_array = [[] for i in range(len(sequences[0]))]\n",
    "    for seq in sequences.values():\n",
    "        for (i, n) in enumerate(seq):\n",
    "            seq_array[i].append(n.replace(\"-\", \"\"))\n",
    "    return seq_array\n",
    "\n",
    "def align_ga(unaln_seq):\n",
    "    ga = GA_MSA(population_size=20, generations=100, min_generations=20, mutation_rate=0.05, gap_open_score=-2, gap_extend_score=-1)\n",
    "\n",
    "    aln_seq = list()\n",
    "    for seq in unaln_seq:\n",
    "        score, aln = ga.run(sequences=seq)\n",
    "        aln_seq.append(aln)\n",
    "    return aln_seq\n",
    "\n",
    "def concatenate(aln_array, anchors, aln_seq):\n",
    "    num_seq = len(aln_array[0])\n",
    "    alignments = [\"\" for i in range(num_seq)]\n",
    "    min_index = np.argmin([len(l[0]) for l in aln_array])\n",
    "    for i in range(len(anchors)):\n",
    "        for j in range(num_seq):\n",
    "            start, window = anchors[i]\n",
    "            alignments[j] += aln_seq[i][j] + aln_array[min_index][j][start: start+window]\n",
    "    for i in range(num_seq):\n",
    "        alignments[i] += aln_seq[-1][i]\n",
    "    return alignments\n",
    "\n",
    "def anchor_ga(file_id):\n",
    "    seq_dict = sequence_dict(get_file_list(file_id))\n",
    "    aln_array = alignments_array(seq_dict)\n",
    "    anchors = get_anchors(aln_array)\n",
    "    unaln_pos = get_unaligned_pos(aln_array, anchors)\n",
    "    unaln_seq = get_unaligned_seq(aln_array, unaln_pos)\n",
    "\n",
    "    aln_seq = align_ga(unaln_seq)\n",
    "\n",
    "    alignments = concatenate(aln_array, anchors, aln_seq)\n",
    "\n",
    "    sequence_records = list()\n",
    "    ids = list(seq_dict)\n",
    "    for i, aln in enumerate(alignments):\n",
    "        sequence_records.append(SeqRecord(Seq(aln,\n",
    "                        IUPAC.protein),\n",
    "                    id=ids[i], description=\"\"))\n",
    "    output_file = join(output_dir, basename(true_aln_files[file_id]))\n",
    "    with open(output_file, \"w\") as output_handle:\n",
    "        SeqIO.write(sequence_records, output_handle, \"fasta\")\n",
    "    print(\"Output saved to: \" + str(output_file))\n",
    "\n",
    "    return alignments\n",
    "\n",
    "def extract_score(score_str):\n",
    "    sop = \"sum_of_pairs: \"\n",
    "    col = \"column_score: \"\n",
    "    sop_pos = score_str.find(sop) + len(sop)\n",
    "    col_pos = score_str.find(col)\n",
    "    sop_value = float(score_str[sop_pos:col_pos-2])\n",
    "    col_pos += len(col)\n",
    "    col_value = float(score_str[col_pos:-2])\n",
    "    return (sop_value, col_value)\n"
   ]
  },
  {
   "cell_type": "code",
   "execution_count": 6,
   "metadata": {
    "tags": []
   },
   "outputs": [
    {
     "output_type": "stream",
     "name": "stdout",
     "text": "Running\n\nBest solution:\nGKGD--P-KKPRGK\n-MQD-R-VKRP---\nMKKLKKHPDFPKKP\n-----MHIKKP---\nRunning\n\nBest solution:\nPDASVNFS\nPRM-RNS-\nPEMS-NL-\nT-L-KESA\nRunning\n\nBest solution:\nRYEREMKTYIP---PK---G-------E-\nMH-RE---K--Y-PNYKYRPRRKAKMLPK\nEFE-RNLARF-REDH-PDLIQ---NA-KK\nLH---MQLY-PGWSARDNYGKKKKRKREK\nOutput saved to: ..\\msa_data\\Ref11\\anchor_ga\\BB11001.fas\nRunning\n\nBest solution:\n-------------------N-L-F---V----------ALY---DF-V--AS---G-D-N--T--L-S-I-TK--G------------EKL-RV-LG----YNH---NG-E--WC----------E-A-Q-T-KNG-------Q---------GWVPS--NY-I--------------------T--PV-N---S-----\nPLALLLDSSLEGEFDLVQ-RIIYEVD---DPSLPNDEGITALHNAVCAGHTEIVKFLVQFGVNVNAADSDGWTPLHCAASCNNVQVCKFLVES-GAAVFAMTYSDMQTAADKCEEMEEGYTQCSQFLYGVQEKMGIMNKGVIYALWDYEPQNDDELPMKEGDCMTIIHREDEDE-IEWWWARLNDKEGYV-PRNLLGLYP\n--A-------EG-Y---QYRALY--DYKKE----REEDID-LH--L--G--DI---LT---VN------KG--------S---------LV-ALG---F----SDGQEA--RPEEI--GW------LNGYNETTG--ERG------DF-P----------G---TYV------EYI----GR---KK--ISP-------P\nMI-Q-N----F-----R---------VY---Y--------R--DSR-----D-P-------VW--------KG-------PA-----K-L--------------LWK-G-E--GA----------------V--V---I--QD--N------S---D-I-K---------VV---P-R----R----KAK--I--IR-D-\n-T-T--GR--L----D-LP---P--GF-MFKV-QAQ-H-DY---------TAT-DT---DE-LQ-LK-A---G-DV----V---------LV-IP--F-------Q---NPE-E--Q-DE-----G--WL-MG-VK-ESDW-NQH---K--E--L----E----KC--RG----V-FP--EN-FTE-----R---VQ---\n----ADRK-LCADQ-E-CS--HP--ISM----AV-A-LQ----DYM-A-PDCR-FLT---IH--R-GQVV-YV----F----------SKL-KGRG--RL--F-W---GGSV--QG--DY-----YG-DL----A--AR----LGY-FPSS--IVR-EDQ-T-LKPG-K---V-D-V--KT----DK--W---D-FYCQ-\n----L--G-----S-PEFII-LQTYRAIA-----DYEKTSGSEMA-------LST-----GDVVEVVEKSESGW--WFCQM--KAKRG---W-I--PA-S-FLEPLDSP-DET-EDPEPNYA--GEP-YVA-IK-A-Y----TA-V---EG-DEVSLLE-GEAVEVIH-KLL-DGWW--VIRKDD-VTGYFPSMYLQK-S\n--GSS-G-SSG--E----IA--QVTS-AY----VA------SGSEQ-L--S-LAPGQLILILKKN-TS-G-WW--QGELQAR--G-K-KRQKG-W-FPAS-------------------------------HV-----K------------LL--GPSS---E--------------R---AS-G----PS-------SG\nOutput saved to: ..\\msa_data\\Ref11\\anchor_ga\\BB11002.fas\nRunning\n\nBest solution:\n-S-I-S-DTV-----KRAREAF----NSGK-TRSLQ-FR---IQQLEALQRM-IN--ENLKSISGAL-AS--DL-------G-KNEWTSYYEEVAHVLEE---LDTTIK---E-----L---P--------D-W-A---ED---EPVAKTRQTQQDD-LYIHSEP-LGVVL-VIGA-WNY----PFNLTIQPMVG-AVAAGNA-VIL-KP-SE------------VSGHMA----DLLA--TLIP------QYM---DQNL-----------Y--LVV-KGG--VPETTELLKERF---DHIMYTGSTAVGKIVMAAA-AKHLTP-VTLE-LG--GKSPC--YVD-KDC-D-LD-V-ACRR------I-AWGKFM-NSGQTC------------VAPDYILCDP-S-IQNQIV-EKLKKSL-KDFY-G-E-DAKQ-SRDYGRII--NDRHF-QRVK-GLIDNQK-VAHGG--TWDQSSRYI-APTILVDV-DP---Q-S----PVMQE---EIFGPVM-PI-VCVRSLE-EAIQFI-NQREKPLALYVFS--NNEKVI----------KKMI-AETSSGGVTA-NDVI-VHIT--VPTLPF-GGV-GNSGMGA-YH-GKKSFE-T--FSH-R------RSCL-V--KSL-LNE-EAHKARYPPSPA\nRAMREALRRVREEFGRHYP--LYIGGEWVDTKERMVSLNPSA-PSEVVGTTAKAGKAEA-EAALEAAWK-AFKTWKDWPQEDRSRLLL---KAAALMRRRKRELEATLVYEVGKNWVEA-SADV-A----E-AI-DFI----EYYARAA--LR----------YRYPAV-EV-----VPYPGE-D--NESFYVPLG--A--GVVIAPWNFPVAIFT--G------MIVG-PVAV-GNTVIAKP--AEDAVVVGAKVFE--IFHEAGFPPGVVNF--LPGVGEE-VG-AYLVEHPRIRFINFTGSLEVGLKIYEAAGR----LA---PGQ--TWFKRAYVETGGKNAIIVDETADF----------DLAAEGVVVS-AYGFQGQKCSAASR--LI--L----TQGAYEPVLERVLKRAERLSVGPAEENPD--LGP-VVSAEQERKVLSYIEIGKNEGQLVLGGKRLEG--EGY---FI-A--PTV----F-T--EV-----PPKARIA-QEEIFGP--VLSVI--RVKDFAEAL-EV-ANDTPYG-LTGGV------Y---SR--KREHLEWARREFHV-GNLYFNRKI---TGAL-VG---VQPFGG-FKLSGTN-AKT--G--ALD-YLR-L-F--L-E------MKA-----VAER------F\n---TD---NV---F---YATNAFT-GE---------AL-PLAFP---VHT-----EVEVNQAATAAA-KVA----RDF----R-R--LNNSKRASLLR--------TIASE-----LEARSDDIIARAHLETALPE-VRLTGE-IARTANQLRLFADVVNSGSY-HQAILDTPNPTRAPLP-KPDIRRQQ--IALGPVAVFG---AS-NFPLA-FSAAGGDTASALAAGCPVIVKGHT--AHPGTSQ---IV-AECIEQALKQEQ-LPQAI--FTLLQG-NQRALGQA-LVSHPEIKAVGFTGS--VG------GGRALFNLAHERP-EPIP-F---YGELG---AI--NPT--FIFPSAMRAKADL-ADQFVASMTMGC-GQFC---TKPGVVFALNTPETQ-AF---IE----TAQSL-I--RQQSPSTLLTPGI------RD--SY------QSQVV---SR--GSDDGIDVTFSQAESPCVASALFVTSSE-NWRKHP-----AWEEEIFGPQSLI-VVCENVADML-SLSEMLA-----GSLTATIHATEEDYPQVSQLIPR--LE----E--IAGRLVFN---GWPTG-VEVGYAMVH--GGPYPAS-THSASTSVGAEAIHRWLRPVAYQALPESLLPDSLKAENPLEIA-RAVDGKAA\nDELLEK-A-KKVRE------------AW-D-----V-LRN--A------TTREKNKAIKKIAEKLDERRKEILEANRIDVEKA-RE-RGV-K----E-SLVD--RL-------A-L--NDKR-IDEXIKACET-V--IGLK--------DPVGEVIDSWV----REDGL-RIAR---VRV-----PIG--------PIG----II-YESRP-N--VTVET---TI---LALKSGNTILLRGGSDA-LNSNKAIVSA----I-REA---------LK-----ETEI--------PESSVEFI-EN-TDRSLVLEXIRLREY-------LS-LV--IPRGG--YGLISFVRD-NATV-PVLETGVG-N-CHIFVDE--SA--DLKKAVP-VIINA----KTQRP-G-TCNAAEKLLV----HE--------K------I--AKE---FL-PVI-VE-ELRK---HGVEVRG--CE-------KTR-E-----I-V-PDV---V--P-----A-TEDDW-PTEYLDLIIAIKVVKNV-D--EA-IEHIKK---YS-TG---HS---ESILTENYSNAKK-F-VSEIDAAAVYVNAS-TR--FTDG---G-Q-FG--FGAEI-GIST-QR--FHAR-GPV--G-LRE-LTT-YKFVVLGEY-H-VR-E--\nOutput saved to: ..\\msa_data\\Ref11\\anchor_ga\\BB11003.fas\n"
    }
   ],
   "source": [
    "scores = dict()\n",
    "for file_id in range(3):\n",
    "    alignments = anchor_ga(file_id)\n",
    "    result = ! bali-score -r {xml_files[0]} -t {output_files[0]}\n",
    "    scores[file_id] = extract_score(result[0])"
   ]
  },
  {
   "cell_type": "code",
   "execution_count": 7,
   "metadata": {},
   "outputs": [
    {
     "output_type": "execute_result",
     "data": {
      "text/plain": "[{'sum_of_pairs: ': 0.8801169590643275, 'column_score: ': 0.8771929824561403}]"
     },
     "metadata": {},
     "execution_count": 7
    }
   ],
   "source": [
    "scores"
   ]
  },
  {
   "cell_type": "code",
   "execution_count": 5,
   "metadata": {
    "tags": []
   },
   "outputs": [
    {
     "output_type": "stream",
     "name": "stdout",
     "text": "Running\n\nBest solution:\n-S-ISDTVK-RAREAFNSGKTR--SLQFRI--Q-QLEALQRMI--NENLKS-ISG--ALASDLGKNE--------WTSY-----Y-EE------V-AHVL-----EELDTT-IKEL-PDWAE---D--EPV------AKT--R-Q----TQ------QDD--LYIHSEPLGV-VLVIGA-WNYP---FNLTIQPM-VGAVAAGNAVILKPSE----VSG-------HMADLLATLIPQ-YMDQNLYLVVKG-GVPETTEL---LKE----RFDHIMYTGSTAVG-KIVMAAAAKHLTP-VT------LELGGKSPCYVDKD-CDLDVACRRI---AWGKFMNSGQTCVAPD-YILC----DPSIQNQIVEK-LKKS--LKDFYGEDAKQSRDYGRIIN--DRHFQRVKGL--ID---N--QKVAHGGTWDQSSR-----Y-IAPTILVDVDPQSP---VMQEEIFGPVMPIVCVRSLEEAIQFI-N-------------QRE--KPL--A--------LYVFSNNEKVIKKMIAETSSGGVTANDVIV-HITVPTLPFGG--V-G-NSGMGA--YHGKKSFETFSHRRSCL-V-KSLLNEEAHKARYPPSPA\nRAMRE-ALRRVREEFGRHYPLYIGGEWVDTKERMVSL-NPSAPSEVVGTTA---KA-GK-AEA--E---AALEA----AWKAFK---TWKDWPQE---DRSRLLLKAAALMRRRKR--E-LEA--TLVYEVG-KNWVEASAD-VAEAID-FIEYYARA-ALRY-RYPAVEVVPYP-GEDNESFYVPLGAGVVI--A-PWNFPVAIFTGMIVGPVAV--GNTVIAKPAEDAV-----VVGAKVFEIFHEAGFPPGVVNFLPGVGE-EVGAYLVEHPR--IRFI-NFTG-S--LE-VGLKIYEAAGRLA---P--GQTW----FKR--AYV---ETG-GKNA-IIVDETADFDL--AAEGVVVSAYGF--Q--GQKCSAASRLILTQGAYEPVLERVLKRAERLSVGPAEENPD-LGPVVSAEQE-RKVLSY-IEI-GKN-EGQLVLGGK-RLEGEGYFIAPTVFTEVPPKARIAQEEIFGPV--LS--V-IRV-K--DFAEALE-VANDTPYGLTGGVYSRKREH-L-E-W--ARREFHVGNL-----YFN---RKIT-GALVGVQPFG-GFKLSG--T---NAKTGALDYLR-L----F--L-EMKAVAERF\nTDNVFYATNAFTGEALPL--AFPVHTEV-EV--NQAATAAAKVARDFRRLNNSKRASLLRTIASE-L-EARSDDII-A-RAHLETALPEVRLTG--E--IARTA-NQLRLFAD--------VVNSGSYHQAIL-DTP-----NP-TRAPLPKPD-IR--RQQIALGPVAV-FGASNFP-LAFSAAGGDTAS--ALAAGCPVIVKGHTAHPGT----SQ--IV-AECIEQALKQE-QLPQA-I-FTLLQGN-QRALGQALVSHPE-IKAVG-FTGS-V---GG-GRAL--F---NLAHERPEPIPFYGELGAI-NPTFIF--PSA-MRAKADLADQFVASMTMGCGQFCTKPGVVFALN--T--PET-QAFIETAQSL-IRQQSPSTLLTPGI----RDSYQSQV-VSRGSD---DGI--DVTFSQAESPCVASALFVTSSEN-WRKHPAWEEEIFGPQSLIV---VCENVADMLSLSEMLAG-SLTATIHA----TEEDYPQ----VSQL----I-----PRLEEIAGRLVFNGWPTGVEVG-----YAMVHG-GPYPASTHSASTSVGAEAIHRWLRPVA-YQALPESLLPDSLKAENPLEIARAVDGKAA\n-D-----------E-L-LEKAKKVR-EAWDVLRN--AT-----TRE-K---N-K-A--IKKIA-EKLDERRK-EILEANRIDVEKA-RE-R--GVKESLVDRLALNDKRI--DEXIKACETVI--G------LKD-PVGEVIDSWVR----E-DGLRIARVRVPIGPIGIIY-ESR-PNV--TV---ET-TILALKSGNTILLRG-----GSDALNSNKAIVSA--IREALK-ETEIPESSVEF--IE-NTDRSL--VL----EXIR-LREYL-SLVIPRGGYG--LISFVRDN-A-----TVPVL-ETG-VGN-CHIFVDESADLK-KA------V-------------P-VI--INAKTQRPGTCNA----AEKLLVHEKIAKEFL-PVIVEELR-KH-G-VEV-RGCEKTRE-IVPDVV------P--A-----T--EDDW---PT--EYL----DLIIAIKVVKNV-DE-AI-EHIKKYS-TG--HSESILT-ENYSNAKKFVSEIDAAAVYVNASTRFTD-GGQ--F-GF--GAEIGISTQRF---HARGP-----------VG-------LRELTTYKFV---VL-----GE--YHV-R--E----\n"
    },
    {
     "output_type": "execute_result",
     "data": {
      "text/plain": "[['-', 'M', '-', '-'],\n ['-S-ISDTVK-RAREAFNSGKTR--SLQFRI--Q-QLEALQRMI--NENLKS-ISG--ALASDLGKNE--------WTSY-----Y-EE------V-AHVL-----EELDTT-IKEL-PDWAE---D--EPV------AKT--R-Q----TQ------QDD--LYIHSEPLGV-VLVIGA-WNYP---FNLTIQPM-VGAVAAGNAVILKPSE----VSG-------HMADLLATLIPQ-YMDQNLYLVVKG-GVPETTEL---LKE----RFDHIMYTGSTAVG-KIVMAAAAKHLTP-VT------LELGGKSPCYVDKD-CDLDVACRRI---AWGKFMNSGQTCVAPD-YILC----DPSIQNQIVEK-LKKS--LKDFYGEDAKQSRDYGRIIN--DRHFQRVKGL--ID---N--QKVAHGGTWDQSSR-----Y-IAPTILVDVDPQSP---VMQEEIFGPVMPIVCVRSLEEAIQFI-N-------------QRE--KPL--A--------LYVFSNNEKVIKKMIAETSSGGVTANDVIV-HITVPTLPFGG--V-G-NSGMGA--YHGKKSFETFSHRRSCL-V-KSLLNEEAHKARYPPSPA',\n  'RAMRE-ALRRVREEFGRHYPLYIGGEWVDTKERMVSL-NPSAPSEVVGTTA---KA-GK-AEA--E---AALEA----AWKAFK---TWKDWPQE---DRSRLLLKAAALMRRRKR--E-LEA--TLVYEVG-KNWVEASAD-VAEAID-FIEYYARA-ALRY-RYPAVEVVPYP-GEDNESFYVPLGAGVVI--A-PWNFPVAIFTGMIVGPVAV--GNTVIAKPAEDAV-----VVGAKVFEIFHEAGFPPGVVNFLPGVGE-EVGAYLVEHPR--IRFI-NFTG-S--LE-VGLKIYEAAGRLA---P--GQTW----FKR--AYV---ETG-GKNA-IIVDETADFDL--AAEGVVVSAYGF--Q--GQKCSAASRLILTQGAYEPVLERVLKRAERLSVGPAEENPD-LGPVVSAEQE-RKVLSY-IEI-GKN-EGQLVLGGK-RLEGEGYFIAPTVFTEVPPKARIAQEEIFGPV--LS--V-IRV-K--DFAEALE-VANDTPYGLTGGVYSRKREH-L-E-W--ARREFHVGNL-----YFN---RKIT-GALVGVQPFG-GFKLSG--T---NAKTGALDYLR-L----F--L-EMKAVAERF',\n  'TDNVFYATNAFTGEALPL--AFPVHTEV-EV--NQAATAAAKVARDFRRLNNSKRASLLRTIASE-L-EARSDDII-A-RAHLETALPEVRLTG--E--IARTA-NQLRLFAD--------VVNSGSYHQAIL-DTP-----NP-TRAPLPKPD-IR--RQQIALGPVAV-FGASNFP-LAFSAAGGDTAS--ALAAGCPVIVKGHTAHPGT----SQ--IV-AECIEQALKQE-QLPQA-I-FTLLQGN-QRALGQALVSHPE-IKAVG-FTGS-V---GG-GRAL--F---NLAHERPEPIPFYGELGAI-NPTFIF--PSA-MRAKADLADQFVASMTMGCGQFCTKPGVVFALN--T--PET-QAFIETAQSL-IRQQSPSTLLTPGI----RDSYQSQV-VSRGSD---DGI--DVTFSQAESPCVASALFVTSSEN-WRKHPAWEEEIFGPQSLIV---VCENVADMLSLSEMLAG-SLTATIHA----TEEDYPQ----VSQL----I-----PRLEEIAGRLVFNGWPTGVEVG-----YAMVHG-GPYPASTHSASTSVGAEAIHRWLRPVA-YQALPESLLPDSLKAENPLEIARAVDGKAA',\n  '-D-----------E-L-LEKAKKVR-EAWDVLRN--AT-----TRE-K---N-K-A--IKKIA-EKLDERRK-EILEANRIDVEKA-RE-R--GVKESLVDRLALNDKRI--DEXIKACETVI--G------LKD-PVGEVIDSWVR----E-DGLRIARVRVPIGPIGIIY-ESR-PNV--TV---ET-TILALKSGNTILLRG-----GSDALNSNKAIVSA--IREALK-ETEIPESSVEF--IE-NTDRSL--VL----EXIR-LREYL-SLVIPRGGYG--LISFVRDN-A-----TVPVL-ETG-VGN-CHIFVDESADLK-KA------V-------------P-VI--INAKTQRPGTCNA----AEKLLVHEKIAKEFL-PVIVEELR-KH-G-VEV-RGCEKTRE-IVPDVV------P--A-----T--EDDW---PT--EYL----DLIIAIKVVKNV-DE-AI-EHIKKYS-TG--HSESILT-ENYSNAKKFVSEIDAAAVYVNASTRFTD-GGQ--F-GF--GAEIGISTQRF---HARGP-----------VG-------LRELTTYKFV---VL-----GE--YHV-R--E----']]"
     },
     "metadata": {},
     "execution_count": 5
    }
   ],
   "source": [
    "fid = 2\n",
    "seq_dict = sequence_dict(get_file_list(fid))\n",
    "aln_array = alignments_array(seq_dict)\n",
    "has_equal_sizes(aln_array)\n",
    "aln_strs = aln_substring(aln_array, start=14, window=19)\n",
    "anchors = get_anchors(aln_array)\n",
    "anchors\n",
    "unalnpos = get_unaligned_pos(aln_array, anchors)\n",
    "unalnpos\n",
    "unaln_seq = get_unaligned_seq(aln_array, unalnpos)\n",
    "unaln_seq\n",
    "aln_seq = align_ga(unaln_seq)\n",
    "aln_seq"
   ]
  },
  {
   "cell_type": "code",
   "execution_count": 12,
   "metadata": {
    "tags": []
   },
   "outputs": [
    {
     "output_type": "execute_result",
     "data": {
      "text/plain": "'AlignmentScores { sum_of_pairs: 0.8538011695906432, column_score: 0.8070175438596491 }'"
     },
     "metadata": {},
     "execution_count": 12
    }
   ],
   "source": [
    "output = []\n",
    "result = ! bali-score -r {xml_files[0]} -t {output_files[0]}\n",
    "result = result[0]\n",
    "result"
   ]
  },
  {
   "cell_type": "code",
   "execution_count": 6,
   "metadata": {},
   "outputs": [
    {
     "output_type": "execute_result",
     "data": {
      "text/plain": "1"
     },
     "metadata": {},
     "execution_count": 6
    }
   ],
   "source": [
    "max([0, 1, 0, 0])"
   ]
  },
  {
   "cell_type": "code",
   "execution_count": 119,
   "metadata": {},
   "outputs": [
    {
     "output_type": "execute_result",
     "data": {
      "text/plain": "'0.8596491228070176'"
     },
     "metadata": {},
     "execution_count": 119
    }
   ],
   "source": [
    "result[col_pos:-2]"
   ]
  },
  {
   "cell_type": "code",
   "execution_count": null,
   "metadata": {},
   "outputs": [],
   "source": []
  },
  {
   "cell_type": "code",
   "execution_count": 7,
   "metadata": {},
   "outputs": [
    {
     "output_type": "execute_result",
     "data": {
      "text/plain": "['MKKLKKHPDFPKKPLTPYFRFFMEKRAKYAKLHPE--MSNLDLTKILSKKYKELPEKKKMKYIQDFQREKQEFERNLARFREDHPDLIQNAKK---',\n 'MKKLKKHPDFPKKPLTPYFRFFMEKRAKYAKLHPEMS-NL-DLTKILSKKYKELPEKKKMKYIQDFQREKQEFERNLARFREDH---PDLIQNAKK',\n 'MKKLKKHPDFPKKPLTPYFRFFMEKRAKYAKLHPEMS-NL-DLTKILSKKYKELPEKKKMKYIQDFQREKQ-------------EFERNLARFREDHPDLIQNAKK',\n 'MKKLKKHPDFPKKP---LTPYFRFFMEKRAKYAKLHPEMSN--LDLTKILSKKYKELPEKKKMKYIQDFQREKQEFERNLARFREDH-P--DLIQNAKK-------------',\n 'MKKLKKHPDFPK---KPLTPYFRFFMEKRAKYAKLHPEM--SNLDLTKILSKKYKELPEKKKMKYIQDFQREKQEFERNLARFREDHPDLI----------QNAKK']"
     },
     "metadata": {},
     "execution_count": 7
    }
   ],
   "source": [
    "first_file['1k99A']"
   ]
  },
  {
   "cell_type": "code",
   "execution_count": 8,
   "metadata": {},
   "outputs": [
    {
     "output_type": "execute_result",
     "data": {
      "text/plain": "['---GKGDPKKPRGKMSSYAFFVQTSREEHKKKHPDASVNFSEFSKKCSERWKTMSAKEKGKFEDMAKADKARYEREMKTYIPPKGE----------',\n '---GKGDPKKPRGKMSSYAFFVQTSREEHKKKHPDASVNFSEFSKKCSERWKTMSAKEKGKFEDMAKADKARYEREMKTYI------PPKGE----',\n '---GKGDPKKPRGKMSSYAFFVQTSREEHKKKHPDASVNFSEFSKKCSERWKTMSAKEKGKFEDMAKADKA-------------RYEREMKTY-------IPPKGE',\n '------GKGDPKKPRGKMSSYAFFVQTSREEHKKKHPDASVNFSEFSKKCSERWKTMSAKEKGKFEDMAKADKARYE----REMKTYIP-------------------PKGE',\n 'GK------GDPKKPRGKMSSYAFFVQTSREEHKKKHPDASVNFSEFSKKCSERWKTMSAKEKGKFEDMAKADKARYER-------EMKTYIP---------PKG-E']"
     },
     "metadata": {},
     "execution_count": 8
    }
   ],
   "source": [
    "first_file['1aab']"
   ]
  },
  {
   "cell_type": "code",
   "execution_count": 15,
   "metadata": {},
   "outputs": [
    {
     "output_type": "execute_result",
     "data": {
      "text/plain": "['------MQDRVKRPMNAFIVWSRDQRRKMALENPR--MRNSEISKQLGYQWKMLTEAEKWPFFQEAQKLQAMHREKYPNYKYRPRRKAKMLPK---',\n '------MQDRVKRPMNAFIVWSRDQRRKMALENPRMR-NS-EISKQLGYQWKMLTEAEKWPFFQEAQKLQAMHREKYPNYKYRP---RRKAKMLPK',\n 'MQ------DRVKRPMNAFIVWSRDQRRKMALENPRMR-NS-EISKQLGYQWKMLTEAEKWPFFQEAQKLQAMHREKYPNYKYRP---RRKAKM-------LP---K',\n '------MQDRVKRP---MNAFIVWSRDQRRKMALENPRMRN--SEISKQLGYQWKMLTEAEKWPFFQEAQKLQA-------MHREKY-P------NYKYRPRRKAKMLPK--',\n 'MQ------DRVK---RPMNAFIVWSRDQRRKMALENPRM--RNSEISKQLGYQWKMLTEAEKWPFFQEAQKLQAMHRE-------KYPNYKYRP---RRKAKMLPK']"
     },
     "metadata": {},
     "execution_count": 15
    }
   ],
   "source": [
    "first_file['1j46A']"
   ]
  },
  {
   "cell_type": "code",
   "execution_count": 19,
   "metadata": {},
   "outputs": [
    {
     "output_type": "execute_result",
     "data": {
      "text/plain": "defaultdict(list,\n            {'1aab_': ['GKGDPKKPRGKMSSYAFFVQTSREEHKKKHPDASVNFSEFSKKCSERWKTMSAKEKGKFEDMAKADKARYEREMKTYIPPKGE'],\n             '1j46_A': ['MQDRVKRPMNAFIVWSRDQRRKMALENPRMRNSEISKQLGYQWKMLTEAEKWPFFQEAQKLQAMHREKYPNYKYRPRRKAKMLPK'],\n             '1k99_A': ['MKKLKKHPDFPKKPLTPYFRFFMEKRAKYAKLHPEMSNLDLTKILSKKYKELPEKKKMKYIQDFQREKQEFERNLARFREDHPDLIQNAKK'],\n             '2lef_A': ['MHIKKPLNAFMLYMKEMRANVVAESTLKESAAINQILGRRWHALSREEQAKYYELARKERQLHMQLYPGWSARDNYGKKKKRKREK']})"
     },
     "metadata": {},
     "execution_count": 19
    }
   ],
   "source": [
    "alignment_dict([unaligned_files[0]])"
   ]
  },
  {
   "cell_type": "code",
   "execution_count": null,
   "metadata": {},
   "outputs": [],
   "source": []
  },
  {
   "cell_type": "code",
   "execution_count": null,
   "metadata": {},
   "outputs": [],
   "source": []
  },
  {
   "cell_type": "code",
   "execution_count": 3,
   "metadata": {},
   "outputs": [
    {
     "data": {
      "text/plain": [
       "[]"
      ]
     },
     "execution_count": 3,
     "metadata": {},
     "output_type": "execute_result"
    }
   ],
   "source": []
  },
  {
   "cell_type": "code",
   "execution_count": null,
   "metadata": {},
   "outputs": [],
   "source": []
  }
 ],
 "metadata": {
  "kernelspec": {
   "display_name": "Python 3.8.1 64-bit ('bi': conda)",
   "language": "python",
   "name": "python_defaultSpec_1595496443455"
  },
  "language_info": {
   "codemirror_mode": {
    "name": "ipython",
    "version": 3
   },
   "file_extension": ".py",
   "mimetype": "text/x-python",
   "name": "python",
   "nbconvert_exporter": "python",
   "pygments_lexer": "ipython3",
   "version": "3.8.1-final"
  }
 },
 "nbformat": 4,
 "nbformat_minor": 4
}
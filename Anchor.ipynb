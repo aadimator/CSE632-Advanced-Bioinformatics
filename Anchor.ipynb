{
 "cells": [
  {
   "cell_type": "markdown",
   "metadata": {},
   "source": [
    "# Extract anchors\n",
    "Extract the anchors from a group of strings. Anchors are the common substrings among all the given strings."
   ]
  },
  {
   "cell_type": "code",
   "execution_count": 1,
   "metadata": {},
   "outputs": [],
   "source": [
    "import numpy as np\n",
    "\n",
    "from ga import GA_MSA\n",
    "from os import listdir\n",
    "from ntpath import basename\n",
    "from os.path import isfile, join\n",
    "from collections import defaultdict\n",
    "\n",
    "from Bio import SeqIO\n",
    "from Bio.Seq import Seq\n",
    "from Bio.SeqRecord import SeqRecord\n",
    "from Bio.Alphabet import IUPAC"
   ]
  },
  {
   "cell_type": "code",
   "execution_count": 19,
   "metadata": {},
   "outputs": [],
   "source": [
    "data_dir = join(\"..\", \"msa_data\")\n",
    "\n",
    "ref_dir = join(data_dir, \"Ref11\")\n",
    "\n",
    "true_aln_dir = join(ref_dir, \"true_alignment\")\n",
    "unaligned_dir = join(ref_dir, \"unaligned\")\n",
    "clustalo_dir = join(ref_dir, \"clustalo\")\n",
    "muscle_dir = join(ref_dir, \"muscle\")\n",
    "mafft_dir = join(ref_dir, \"mafft\")\n",
    "prank_dir = join(ref_dir, \"prank\")\n",
    "tcoffee_dir = join(ref_dir, \"tcoffee\")\n",
    "xml_dir = join(ref_dir, \"xml\")\n",
    "output_dir = join(ref_dir, \"anchor_ga\")\n",
    "\n",
    "def get_files(dir_name):\n",
    "    return [join(dir_name, f) for f in listdir(dir_name) if isfile(join(dir_name, f))]\n",
    "\n",
    "true_aln_files = get_files(true_aln_dir)\n",
    "unaligned_files = get_files(unaligned_dir)\n",
    "clustalo_files = get_files(clustalo_dir)\n",
    "muscle_files = get_files(muscle_dir)\n",
    "mafft_files = get_files(mafft_dir)\n",
    "prank_files = get_files(prank_dir)\n",
    "tcoffee_files = get_files(tcoffee_dir)\n",
    "xml_files = get_files(xml_dir)\n",
    "output_files = get_files(output_dir)\n",
    "\n",
    "aligners_list = [clustalo_files, muscle_files, mafft_files, prank_files, tcoffee_files]\n"
   ]
  },
  {
   "cell_type": "code",
   "execution_count": 33,
   "metadata": {
    "tags": []
   },
   "outputs": [],
   "source": [
    "def get_file_list(file_id):\n",
    "    return [aligner[file_id] for aligner in aligners_list]\n",
    "\n",
    "def sequence_dict(file_list):\n",
    "    alignments = defaultdict(list)\n",
    "    for f in file_list:\n",
    "        with open(f, \"rU\") as handle:\n",
    "            for record in SeqIO.parse(handle, \"fasta\"):\n",
    "                alignments[record.id].append(str(record.seq))\n",
    "\n",
    "    return alignments\n",
    "\n",
    "def alignments_array(seq_dict):\n",
    "    alignments = defaultdict(list)\n",
    "    for k in seq_dict:\n",
    "        for (i, aln) in enumerate(seq_dict[k]):\n",
    "            alignments[i].append(aln)\n",
    "    aln_array = np.array([np.array(l) for l in alignments.values()])\n",
    "    return aln_array\n",
    "\n",
    "def has_equal_sizes(aln_array):\n",
    "    for l in aln_array:\n",
    "        if not all([len(l[0]) == len(s) for s in l]):\n",
    "            return False\n",
    "    return True\n",
    "\n",
    "def substring(seq_list, start=0, window=3):\n",
    "    st = \"\"\n",
    "    for l in seq_list:\n",
    "        st += l[start:start+window]\n",
    "    return st\n",
    "\n",
    "def aln_substring(aln_array, start=0, window=3, search_area=10):\n",
    "    aln_substrs = np.array([substring(seq, start=start, window=window) for seq in aln_array])\n",
    "    min_index = np.argmin([len(l[0]) for l in aln_array])\n",
    "    anchor_substring = aln_substrs[min_index]\n",
    "    equal_to_anchor = aln_substrs == anchor_substring\n",
    "    if not np.all(equal_to_anchor):\n",
    "        for i in np.where(~(equal_to_anchor))[0]:\n",
    "            for sa in range(1, min(search_area, len(aln_array[i][0]))):\n",
    "                new_substr = substring(aln_array[i], start=(start+sa), window=window)\n",
    "                if new_substr == anchor_substring:\n",
    "                    aln_substrs[i] = new_substr\n",
    "                    break\n",
    "\n",
    "    return aln_substrs\n",
    "\n",
    "def get_anchors(aln_array, search_area=10):\n",
    "    min_size = np.min([len(l[0]) for l in aln_array])\n",
    "    anchors = list()\n",
    "    s = 0\n",
    "    w = 3\n",
    "    \n",
    "    while s < min_size:\n",
    "        aligned_sub = False\n",
    "        aln_substr = aln_substring(aln_array, start=s, window=w, search_area=search_area)\n",
    "        while np.all(aln_substr == aln_substr[0]):\n",
    "            aligned_sub = True\n",
    "            w += 1\n",
    "            aln_substr = aln_substring(aln_array, start=s, window=w, search_area=search_area)\n",
    "        if aligned_sub:\n",
    "            anchors.append((s, w-1))\n",
    "            s += w\n",
    "        else:\n",
    "            s += 1\n",
    "    return anchors\n",
    "        \n",
    "def get_unaligned_pos(aln_array, anchors):\n",
    "    sizes = [len(l[0]) for l in aln_array]\n",
    "    min_size = np.min(sizes)\n",
    "    min_index = np.argmin(sizes)\n",
    "    aln = aln_array[min_index]\n",
    "    sequences = list()\n",
    "    s = 0\n",
    "    for (anchor_start, anchor_window) in anchors:\n",
    "        sequences.append((s, anchor_start))\n",
    "        s = anchor_start + anchor_window\n",
    "    sequences.append((s, min_size))\n",
    "    return sequences\n",
    "\n",
    "def get_unaligned_seq(aln_array, unaln_pos):\n",
    "    sequences = defaultdict(list)\n",
    "    min_index = np.argmin([len(l[0]) for l in aln_array])\n",
    "    for (i, seq) in enumerate(aln_array[min_index]):\n",
    "        for (s, e) in unaln_pos:\n",
    "            sequences[i].append(seq[s:e])\n",
    "    seq_array = [[] for i in range(len(sequences[0]))]\n",
    "    for seq in sequences.values():\n",
    "        for (i, n) in enumerate(seq):\n",
    "            seq_array[i].append(n.replace(\"-\", \"\"))\n",
    "    return seq_array\n",
    "\n",
    "def align_ga(unaln_seq):\n",
    "    ga = GA_MSA(population_size=100, generations=100, min_generations=50, mutation_rate=0.05, gap_open_score=-2, gap_extend_score=-1)\n",
    "\n",
    "    aln_seq = list()\n",
    "    for seq in unaln_seq:\n",
    "        score, aln = ga.run(sequences=seq)\n",
    "        aln_seq.append(aln)\n",
    "    return aln_seq\n",
    "\n",
    "def concatenate(aln_array, anchors, aln_seq):\n",
    "    num_seq = len(aln_array[0])\n",
    "    alignments = [\"\" for i in range(num_seq)]\n",
    "    min_index = np.argmin([len(l[0]) for l in aln_array])\n",
    "    for i in range(len(anchors)):\n",
    "        for j in range(num_seq):\n",
    "            start, window = anchors[i]\n",
    "            alignments[j] += aln_seq[i][j] + aln_array[min_index][j][start: start+window]\n",
    "    for i in range(num_seq):\n",
    "        alignments[i] += aln_seq[-1][i]\n",
    "    return alignments\n",
    "\n",
    "def anchor_ga(file_id, search_area=100):\n",
    "    seq_dict = sequence_dict(get_file_list(file_id))\n",
    "    aln_array = alignments_array(seq_dict)\n",
    "    anchors = get_anchors(aln_array, search_area=search_area)\n",
    "    unaln_pos = get_unaligned_pos(aln_array, anchors)\n",
    "    unaln_seq = get_unaligned_seq(aln_array, unaln_pos)\n",
    "\n",
    "    aln_seq = align_ga(unaln_seq)\n",
    "\n",
    "    alignments = concatenate(aln_array, anchors, aln_seq)\n",
    "\n",
    "    sequence_records = list()\n",
    "    ids = list(seq_dict)\n",
    "    for i, aln in enumerate(alignments):\n",
    "        sequence_records.append(SeqRecord(Seq(aln,\n",
    "                        IUPAC.protein),\n",
    "                    id=ids[i], description=\"\"))\n",
    "    output_file = join(output_dir, basename(true_aln_files[file_id]))\n",
    "    with open(output_file, \"w\") as output_handle:\n",
    "        SeqIO.write(sequence_records, output_handle, \"fasta\")\n",
    "    print(\"Output saved to: \" + str(output_file))\n",
    "\n",
    "    return alignments\n",
    "\n",
    "def extract_score(score_str):\n",
    "    sop = \"sum_of_pairs: \"\n",
    "    col = \"column_score: \"\n",
    "    sop_pos = score_str.find(sop) + len(sop)\n",
    "    col_pos = score_str.find(col)\n",
    "    # print(score_str)\n",
    "    sop_value = float(score_str[sop_pos:col_pos-2])\n",
    "    col_pos += len(col)\n",
    "    col_value = float(score_str[col_pos:-2])\n",
    "    return (sop_value, col_value)\n"
   ]
  },
  {
   "cell_type": "code",
   "execution_count": 7,
   "metadata": {
    "tags": []
   },
   "outputs": [
    {
     "output_type": "execute_result",
     "data": {
      "text/plain": "{0: (0.8625730994152047, 0.8070175438596491),\n 1: (0.014705882352941176, 0.0),\n 2: (0.15519568151147098, 0.09716599190283401),\n 3: (0.1403985507246377, 0.11956521739130435),\n 4: (0.04632867132867133, 0.0)}"
     },
     "metadata": {},
     "execution_count": 7
    }
   ],
   "source": [
    "scores = dict()\n",
    "for file_id in range(5):\n",
    "    # alignments = anchor_ga(file_id, search_area=160)\n",
    "    result = ! bali-score -r {xml_files[file_id]} -t {output_files[file_id]}\n",
    "    scores[file_id] = extract_score(result[0])\n",
    "\n",
    "scores"
   ]
  },
  {
   "cell_type": "code",
   "execution_count": 47,
   "metadata": {
    "tags": []
   },
   "outputs": [
    {
     "output_type": "execute_result",
     "data": {
      "text/plain": "[(14, 19), (41, 30)]"
     },
     "metadata": {},
     "execution_count": 47
    }
   ],
   "source": [
    "fid = 0\n",
    "seq_dict = sequence_dict(get_file_list(fid))\n",
    "seq_dict\n",
    "aln_array = alignments_array(seq_dict)\n",
    "aln_array\n",
    "anchors = get_anchors(aln_array, search_area=25)\n",
    "anchors\n",
    "# unalnpos = get_unaligned_pos(aln_array, anchors)\n",
    "# unalnpos\n",
    "# unaln_seq = get_unaligned_seq(aln_array, unalnpos)\n",
    "# unaln_seq\n",
    "# # aln_seq = align_ga(unaln_seq)\n",
    "# aln_seq\n",
    "# alignments = concatenate(aln_array, anchors, aln_seq)\n",
    "# alignments"
   ]
  },
  {
   "cell_type": "code",
   "execution_count": 27,
   "metadata": {
    "tags": []
   },
   "outputs": [
    {
     "output_type": "execute_result",
     "data": {
      "text/plain": "'RGK-RP-KP-KP'"
     },
     "metadata": {},
     "execution_count": 27
    }
   ],
   "source": [
    "substring(aln_array[4], start=14, window=3)"
   ]
  },
  {
   "cell_type": "code",
   "execution_count": 40,
   "metadata": {},
   "outputs": [
    {
     "output_type": "execute_result",
     "data": {
      "text/plain": "array(['MSSYAFFVQTSREEHKKKHMNAFIVWSRDQRRKMALENLTPYFRFFMEKRAKYAKLHLNAFMLYMKEMRANVVAES',\n       'MSSYAFFVQTSREEHKKKHMNAFIVWSRDQRRKMALENLTPYFRFFMEKRAKYAKLHLNAFMLYMKEMRANVVAES',\n       'MSSYAFFVQTSREEHKKKHMNAFIVWSRDQRRKMALENLTPYFRFFMEKRAKYAKLHLNAFMLYMKEMRANVVAES',\n       'MSSYAFFVQTSREEHKKKHMNAFIVWSRDQRRKMALENLTPYFRFFMEKRAKYAKLHLNAFMLYMKEMRANVVAES',\n       'MSSYAFFVQTSREEHKKKHMNAFIVWSRDQRRKMALENLTPYFRFFMEKRAKYAKLHLNAFMLYMKEMRANVVAES'],\n      dtype='<U76')"
     },
     "metadata": {},
     "execution_count": 40
    }
   ],
   "source": [
    "aln_substring(aln_array, start=14, window=19)"
   ]
  },
  {
   "cell_type": "code",
   "execution_count": 48,
   "metadata": {},
   "outputs": [
    {
     "output_type": "execute_result",
     "data": {
      "text/plain": "array([['---GKGDPKKPRGKMSSYAFFVQTSREEHKKKHPDASVNFSEFSKKCSERWKTMSAKEKGKFEDMAKADKARYEREMKTYIPPKGE----------',\n        '------MQDRVKRPMNAFIVWSRDQRRKMALENPR--MRNSEISKQLGYQWKMLTEAEKWPFFQEAQKLQAMHREKYPNYKYRPRRKAKMLPK---',\n        'MKKLKKHPDFPKKPLTPYFRFFMEKRAKYAKLHPE--MSNLDLTKILSKKYKELPEKKKMKYIQDFQREKQEFERNLARFREDHPDLIQNAKK---',\n        '--------MHIKKPLNAFMLYMKEMRANVVAESTL--KESAAINQILGRRWHALSREEQAKYYELARKERQLHMQLYPGWSARDNYGKKKKRKREK'],\n       ['---GKGDPKKPRGKMSSYAFFVQTSREEHKKKHPDASVNFSEFSKKCSERWKTMSAKEKGKFEDMAKADKARYEREMKTYI------PPKGE----',\n        '------MQDRVKRPMNAFIVWSRDQRRKMALENPRMR-NS-EISKQLGYQWKMLTEAEKWPFFQEAQKLQAMHREKYPNYKYRP---RRKAKMLPK',\n        'MKKLKKHPDFPKKPLTPYFRFFMEKRAKYAKLHPEMS-NL-DLTKILSKKYKELPEKKKMKYIQDFQREKQEFERNLARFREDH---PDLIQNAKK',\n        '--------MHIKKPLNAFMLYMKEMRANVVAES-TLK-ESAAINQILGRRWHALSREEQAKYYELARKERQLHMQLYPGWSARDNYGKKKKRKREK'],\n       ['------GKGDPKKPRGKMSSYAFFVQTSREEHKKKHPDASVNFSEFSKKCSERWKTMSAKEKGKFEDMAKADKARYE----REMKTYIP-------------------PKGE',\n        '------MQDRVKRP---MNAFIVWSRDQRRKMALENPRMRN--SEISKQLGYQWKMLTEAEKWPFFQEAQKLQA-------MHREKY-P------NYKYRPRRKAKMLPK--',\n        'MKKLKKHPDFPKKP---LTPYFRFFMEKRAKYAKLHPEMSN--LDLTKILSKKYKELPEKKKMKYIQDFQREKQEFERNLARFREDH-P--DLIQNAKK-------------',\n        '--------MHIKKP---LNAFMLYMKEMRANVVAESTLKES--AAINQILGRRWHALSREEQAKYYELARKERQ-------LHMQLY-PGWSARDNYGKKKKRKREK-----'],\n       ['---GKGDPKKPRGKMSSYAFFVQTSREEHKKKHPDASVNFSEFSKKCSERWKTMSAKEKGKFEDMAKADKA-------------RYEREMKTY-------IPPKGE',\n        'MQ------DRVKRPMNAFIVWSRDQRRKMALENPRMR-NS-EISKQLGYQWKMLTEAEKWPFFQEAQKLQAMHREKYPNYKYRP---RRKAKM-------LP---K',\n        'MKKLKKHPDFPKKPLTPYFRFFMEKRAKYAKLHPEMS-NL-DLTKILSKKYKELPEKKKMKYIQDFQREKQ-------------EFERNLARFREDHPDLIQNAKK',\n        'MH--------IKKPLNAFMLYMKEMRANVVAESTLKE-SA-AINQILGRRWHALSREEQAKYYELARKERQLHMQLYPGWSARDNYGKKKKRK-------RE---K'],\n       ['GK------GDPKKPRGKMSSYAFFVQTSREEHKKKHPDASVNFSEFSKKCSERWKTMSAKEKGKFEDMAKADKARYER-------EMKTYIP---------PKG-E',\n        'MQ------DRVK---RPMNAFIVWSRDQRRKMALENPRM--RNSEISKQLGYQWKMLTEAEKWPFFQEAQKLQAMHRE-------KYPNYKYRP---RRKAKMLPK',\n        'MKKLKKHPDFPK---KPLTPYFRFFMEKRAKYAKLHPEM--SNLDLTKILSKKYKELPEKKKMKYIQDFQREKQEFERNLARFREDHPDLI----------QNAKK',\n        'M--------HIK---KPLNAFMLYMKEMRANVVAESTLK--ESAAINQILGRRWHALSREEQAKYYELARKERQLHMQ-------LYPGWSARDNYGKKKKRKREK']],\n      dtype='<U112')"
     },
     "metadata": {},
     "execution_count": 48
    }
   ],
   "source": [
    "aln_array"
   ]
  },
  {
   "cell_type": "code",
   "execution_count": null,
   "metadata": {},
   "outputs": [],
   "source": []
  },
  {
   "cell_type": "code",
   "execution_count": 7,
   "metadata": {},
   "outputs": [
    {
     "output_type": "execute_result",
     "data": {
      "text/plain": "['MKKLKKHPDFPKKPLTPYFRFFMEKRAKYAKLHPE--MSNLDLTKILSKKYKELPEKKKMKYIQDFQREKQEFERNLARFREDHPDLIQNAKK---',\n 'MKKLKKHPDFPKKPLTPYFRFFMEKRAKYAKLHPEMS-NL-DLTKILSKKYKELPEKKKMKYIQDFQREKQEFERNLARFREDH---PDLIQNAKK',\n 'MKKLKKHPDFPKKPLTPYFRFFMEKRAKYAKLHPEMS-NL-DLTKILSKKYKELPEKKKMKYIQDFQREKQ-------------EFERNLARFREDHPDLIQNAKK',\n 'MKKLKKHPDFPKKP---LTPYFRFFMEKRAKYAKLHPEMSN--LDLTKILSKKYKELPEKKKMKYIQDFQREKQEFERNLARFREDH-P--DLIQNAKK-------------',\n 'MKKLKKHPDFPK---KPLTPYFRFFMEKRAKYAKLHPEM--SNLDLTKILSKKYKELPEKKKMKYIQDFQREKQEFERNLARFREDHPDLI----------QNAKK']"
     },
     "metadata": {},
     "execution_count": 7
    }
   ],
   "source": [
    "first_file['1k99A']"
   ]
  },
  {
   "cell_type": "code",
   "execution_count": 8,
   "metadata": {},
   "outputs": [
    {
     "output_type": "execute_result",
     "data": {
      "text/plain": "['---GKGDPKKPRGKMSSYAFFVQTSREEHKKKHPDASVNFSEFSKKCSERWKTMSAKEKGKFEDMAKADKARYEREMKTYIPPKGE----------',\n '---GKGDPKKPRGKMSSYAFFVQTSREEHKKKHPDASVNFSEFSKKCSERWKTMSAKEKGKFEDMAKADKARYEREMKTYI------PPKGE----',\n '---GKGDPKKPRGKMSSYAFFVQTSREEHKKKHPDASVNFSEFSKKCSERWKTMSAKEKGKFEDMAKADKA-------------RYEREMKTY-------IPPKGE',\n '------GKGDPKKPRGKMSSYAFFVQTSREEHKKKHPDASVNFSEFSKKCSERWKTMSAKEKGKFEDMAKADKARYE----REMKTYIP-------------------PKGE',\n 'GK------GDPKKPRGKMSSYAFFVQTSREEHKKKHPDASVNFSEFSKKCSERWKTMSAKEKGKFEDMAKADKARYER-------EMKTYIP---------PKG-E']"
     },
     "metadata": {},
     "execution_count": 8
    }
   ],
   "source": [
    "first_file['1aab']"
   ]
  },
  {
   "cell_type": "code",
   "execution_count": 15,
   "metadata": {},
   "outputs": [
    {
     "output_type": "execute_result",
     "data": {
      "text/plain": "['------MQDRVKRPMNAFIVWSRDQRRKMALENPR--MRNSEISKQLGYQWKMLTEAEKWPFFQEAQKLQAMHREKYPNYKYRPRRKAKMLPK---',\n '------MQDRVKRPMNAFIVWSRDQRRKMALENPRMR-NS-EISKQLGYQWKMLTEAEKWPFFQEAQKLQAMHREKYPNYKYRP---RRKAKMLPK',\n 'MQ------DRVKRPMNAFIVWSRDQRRKMALENPRMR-NS-EISKQLGYQWKMLTEAEKWPFFQEAQKLQAMHREKYPNYKYRP---RRKAKM-------LP---K',\n '------MQDRVKRP---MNAFIVWSRDQRRKMALENPRMRN--SEISKQLGYQWKMLTEAEKWPFFQEAQKLQA-------MHREKY-P------NYKYRPRRKAKMLPK--',\n 'MQ------DRVK---RPMNAFIVWSRDQRRKMALENPRM--RNSEISKQLGYQWKMLTEAEKWPFFQEAQKLQAMHRE-------KYPNYKYRP---RRKAKMLPK']"
     },
     "metadata": {},
     "execution_count": 15
    }
   ],
   "source": [
    "first_file['1j46A']"
   ]
  },
  {
   "cell_type": "code",
   "execution_count": 19,
   "metadata": {},
   "outputs": [
    {
     "output_type": "execute_result",
     "data": {
      "text/plain": "defaultdict(list,\n            {'1aab_': ['GKGDPKKPRGKMSSYAFFVQTSREEHKKKHPDASVNFSEFSKKCSERWKTMSAKEKGKFEDMAKADKARYEREMKTYIPPKGE'],\n             '1j46_A': ['MQDRVKRPMNAFIVWSRDQRRKMALENPRMRNSEISKQLGYQWKMLTEAEKWPFFQEAQKLQAMHREKYPNYKYRPRRKAKMLPK'],\n             '1k99_A': ['MKKLKKHPDFPKKPLTPYFRFFMEKRAKYAKLHPEMSNLDLTKILSKKYKELPEKKKMKYIQDFQREKQEFERNLARFREDHPDLIQNAKK'],\n             '2lef_A': ['MHIKKPLNAFMLYMKEMRANVVAESTLKESAAINQILGRRWHALSREEQAKYYELARKERQLHMQLYPGWSARDNYGKKKKRKREK']})"
     },
     "metadata": {},
     "execution_count": 19
    }
   ],
   "source": [
    "alignment_dict([unaligned_files[0]])"
   ]
  },
  {
   "cell_type": "code",
   "execution_count": null,
   "metadata": {},
   "outputs": [],
   "source": []
  },
  {
   "cell_type": "code",
   "execution_count": null,
   "metadata": {},
   "outputs": [],
   "source": []
  },
  {
   "cell_type": "code",
   "execution_count": 3,
   "metadata": {},
   "outputs": [
    {
     "data": {
      "text/plain": [
       "[]"
      ]
     },
     "execution_count": 3,
     "metadata": {},
     "output_type": "execute_result"
    }
   ],
   "source": []
  },
  {
   "cell_type": "code",
   "execution_count": null,
   "metadata": {},
   "outputs": [],
   "source": []
  }
 ],
 "metadata": {
  "kernelspec": {
   "display_name": "Python 3.8.1 64-bit ('bi': conda)",
   "language": "python",
   "name": "python_defaultSpec_1595651482187"
  },
  "language_info": {
   "codemirror_mode": {
    "name": "ipython",
    "version": 3
   },
   "file_extension": ".py",
   "mimetype": "text/x-python",
   "name": "python",
   "nbconvert_exporter": "python",
   "pygments_lexer": "ipython3",
   "version": "3.8.1-final"
  }
 },
 "nbformat": 4,
 "nbformat_minor": 4
}
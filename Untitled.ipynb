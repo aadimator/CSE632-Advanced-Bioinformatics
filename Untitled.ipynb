{
 "cells": [
  {
   "cell_type": "code",
   "execution_count": 6,
   "metadata": {},
   "outputs": [
    {
     "data": {
      "image/png": "[encoded data removed]",
      "text/plain": [
       "<Figure size 432x288 with 2 Axes>"
      ]
     },
     "metadata": {
      "needs_background": "light"
     },
     "output_type": "display_data"
    }
   ],
   "source": [
    "%matplotlib inline\n",
    "import matplotlib.pyplot as plt\n",
    "import numpy as np; np.random.seed(1)\n",
    "\n",
    "x = np.sort(np.random.rand(15))\n",
    "y = np.sort(np.random.rand(15))\n",
    "y2 = np.sort(np.random.rand(15))\n",
    "\n",
    "fig = plt.figure()\n",
    "ax1 = plt.subplot(2, 2, 1)\n",
    "line1, = plt.plot(x,y)\n",
    "ax1.grid(True)\n",
    "\n",
    "ax2 = ax1.twinx()\n",
    "line2, = ax2.plot(x, y2, color='green')\n",
    "ax2.tick_params(axis='y', labelcolor='green')\n",
    "\n",
    "annots = []\n",
    "for ax in [ax1, ax2]:\n",
    "    annot = ax1.annotate(\"\", xy=(0,0), xytext=(-20,20),textcoords=\"offset points\",\n",
    "                        bbox=dict(boxstyle=\"round\", fc=\"w\", alpha=0.4),\n",
    "                        arrowprops=dict(arrowstyle=\"->\"))\n",
    "    annot.set_visible(False)\n",
    "    annots.append(annot)\n",
    "\n",
    "annot_dic = dict(zip([ax1, ax2], annots))\n",
    "line_dic = dict(zip([ax1, ax2], [line1, line2]))\n",
    "\n",
    "def update_annot(line, annot, ind):\n",
    "    x,y = line.get_data()\n",
    "    annot.xy = (x[ind[\"ind\"][0]], y[ind[\"ind\"][0]])\n",
    "    text = \"x = {}\\ny= {}\".format(x[ind[\"ind\"][0]], y[ind[\"ind\"][0]])\n",
    "    annot.set_text(text)\n",
    "\n",
    "def hover(event):\n",
    "\n",
    "    if event.inaxes in [ax1, ax2]:\n",
    "        for ax in [ax1, ax2]:\n",
    "            cont, ind = line_dic[ax].contains(event)\n",
    "            annot = annot_dic[ax]\n",
    "            if cont:\n",
    "                update_annot(line_dic[ax], annot, ind)\n",
    "                annot.set_visible(True)\n",
    "                fig.canvas.draw_idle()\n",
    "            else:\n",
    "                if annot.get_visible():\n",
    "                    annot.set_visible(False)\n",
    "                    fig.canvas.draw_idle()\n",
    "\n",
    "fig.canvas.mpl_connect(\"motion_notify_event\", hover)\n",
    "plt.show()"
   ]
  },
  {
   "cell_type": "code",
   "execution_count": 9,
   "metadata": {},
   "outputs": [
    {
     "data": {
      "image/png": "[encoded data removed]",
      "text/plain": [
       "<Figure size 432x288 with 1 Axes>"
      ]
     },
     "metadata": {
      "needs_background": "light"
     },
     "output_type": "display_data"
    }
   ],
   "source": [
    "import numpy as np\n",
    "import matplotlib.pyplot as plt\n",
    "\n",
    "# Fixing random state for reproducibility\n",
    "np.random.seed(19680801)\n",
    "\n",
    "mu, sigma = 100, 15\n",
    "x = mu + sigma * np.random.randn(10000)\n",
    "\n",
    "# the histogram of the data\n",
    "n, bins, patches = plt.hist(x, 50, density=True, facecolor='g', alpha=0.75)\n",
    "\n",
    "\n",
    "plt.xlabel('Smarts')\n",
    "plt.ylabel('Probability')\n",
    "plt.title('Histogram of IQ')\n",
    "plt.text(60, .025, r'$\\mu=100,\\ \\sigma=15$')\n",
    "plt.xlim(40, 160)\n",
    "plt.ylim(0, 0.03)\n",
    "plt.grid(True)\n",
    "plt.show()"
   ]
  },
  {
   "cell_type": "code",
   "execution_count": null,
   "metadata": {},
   "outputs": [],
   "source": []
  }
 ],
 "metadata": {
  "kernelspec": {
   "display_name": "condaEnv",
   "language": "python",
   "name": "condaenv"
  },
  "language_info": {
   "codemirror_mode": {
    "name": "ipython",
    "version": 3
   },
   "file_extension": ".py",
   "mimetype": "text/x-python",
   "name": "python",
   "nbconvert_exporter": "python",
   "pygments_lexer": "ipython3",
   "version": "3.8.1"
  }
 },
 "nbformat": 4,
 "nbformat_minor": 4
}

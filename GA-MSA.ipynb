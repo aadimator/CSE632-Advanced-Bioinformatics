{
 "cells": [
  {
   "cell_type": "markdown",
   "metadata": {},
   "source": [
    "# Multiple Sequence Alignment using Genetic Algorithms"
   ]
  },
  {
   "cell_type": "code",
   "execution_count": 1,
   "metadata": {},
   "outputs": [],
   "source": [
    "import pandas as pd\n",
    "import numpy as np \n",
    "from random import randint, uniform\n",
    "from dataclasses import dataclass\n",
    "\n",
    "from Bio.Align import PairwiseAligner\n",
    "from Bio.SubsMat.MatrixInfo import blosum62\n",
    "from utils import Utils\n",
    "from ga import GA_MSA\n",
    "from vose_sampler import VoseAlias\n",
    "from Bio.pairwise2 import align"
   ]
  },
  {
   "cell_type": "code",
   "execution_count": 2,
   "metadata": {},
   "outputs": [],
   "source": [
    "sequences = [\"ACTGCAACG\", \"ATCTGCTAG\", \"ACCCGAGACTG\", \"CGTAAACGT\"]"
   ]
  },
  {
   "cell_type": "code",
   "execution_count": 5,
   "metadata": {
    "tags": []
   },
   "outputs": [
    {
     "output_type": "stream",
     "name": "stdout",
     "text": "Input matrix:\nACTGCAACG\nATCTGCTAG\nACCCGAGACTG\nCGTAAACGT\nInitializing Population\nRunning GA\n\n\nGeneration 1\n\nPopulation fitness: 616.0\nMax Fitness: 73.0\nBest Fitness: -inf\nUpdated Best Value\n\nGap Reduce Mutation\nOriginal alignment: A-C--T-GCAACG\nOriginal Score: 20.0\nAfter Mutation: A-C--TGCAACG\nScore: 20.0\n\nNo Mutation\nOriginal alignments: ['A-CTG-C-AAC-G', 'ATCTGCT---A-G', 'ACCCGAGAC-T-G', '--C-G-TAAACGT']\nScore: 73.0\n\n\nGeneration 2\n\nPopulation fitness: 769.0\nMax Fitness: 67.0\nBest Fitness: 73.0\n\nNo Mutation\nOriginal alignments: ['A-C--TG--C--------AAC--G', '--AT--CTGC-T--------AG--', 'AC-CCG-A----GAC--T-----G', '---C--G---T-A--AAC--G-T-']\nScore: 27.0\n\n\nGeneration 3\n\nPopulation fitness: 594.0\nMax Fitness: 67.0\nBest Fitness: 73.0\n\nNo Mutation\nOriginal alignments: ['-ACT---G--CA--A-CG', 'A-TCTGCT-----A---G', 'A-CCCGA-GAC-T----G', '--C--GT----A-AACGT']\nScore: 44.0\n\n\nGeneration 4\n\nPopulation fitness: 833.0\nMax Fitness: 56.0\nBest Fitness: 73.0\n\nGap Extend Mutation\nOriginal alignment: ATCTGCT-A-G\nOriginal Score: 36.0\nAfter Mutation: ATCTGCT--A-G\nScore: 36.0\n\n\nGeneration 5\n\nPopulation fitness: 1002.0\nMax Fitness: 56.0\nBest Fitness: 73.0\n\nGap Reduce Mutation\nOriginal alignment: A-C-TGCA-AC-G\nOriginal Score: 46.0\nAfter Mutation: A-CTGCA-AC-G\nScore: 55.0\n\n\nGeneration 6\n\nPopulation fitness: 1064.0\nMax Fitness: 67.0\nBest Fitness: 73.0\n\nNo Mutation\nOriginal alignments: ['ACT---GCAACG', 'ATCTGCT-A--G', '-ACCCGAGACTG', '--CGTAAACGT-']\nScore: 36.0\n\n\nGeneration 7\n\nPopulation fitness: 1090.0\nMax Fitness: 67.0\nBest Fitness: 73.0\n\nNo Mutation\nOriginal alignments: ['ACTG-CA-A-CG--', 'AT-CTG--CTA--G', 'ACC-CGAGACTG--', '--C---GTAAACGT']\nScore: 56.0\n\n\nGeneration 8\n\nPopulation fitness: 1157.0\nMax Fitness: 75.0\nBest Fitness: 73.0\nUpdated Best Value\n\nNo Mutation\nOriginal alignments: ['ACTG-CAACG--', 'ATCTG---CTAG', 'ACCCGAGACTG-', '--C-GTAAACGT']\nScore: 56.0\n\n\nGeneration 9\n\nPopulation fitness: 986.0\nMax Fitness: 75.0\nBest Fitness: 75.0\n\n\nGeneration 10\n\nPopulation fitness: 1448.0\nMax Fitness: 93.0\nBest Fitness: 75.0\nUpdated Best Value\n\nNo Mutation\nOriginal alignments: ['AC-T---GC-AA-CG-', 'ATCTGC--TA---G--', 'A-CC-CG-AGAC--TG', '------CGTAA-ACGT']\nScore: 75.0\n\n\nGeneration 11\n\nPopulation fitness: 1408.0\nMax Fitness: 93.0\nBest Fitness: 93.0\n\nGap Extend Mutation\nOriginal alignment: ATCTG---CTAG\nOriginal Score: 56.0\nAfter Mutation: ATCTG----CTAG\nScore: 78.0\n\nNo Mutation\nOriginal alignments: ['A--C-TGCA---AC-G', 'AT---CTGCTA---G-', 'ACCCGA---G-ACT-G', '--C-G--TAAAC--GT']\nScore: 52.0\n\n\nGeneration 12\n\nPopulation fitness: 1333.0\nMax Fitness: 93.0\nBest Fitness: 93.0\n\nNo Mutation\nOriginal alignments: ['ACTG---CAACG--', 'ATCTG----CTA-G', 'ACCCGAGA--CTG-', '--C-GTA-A-ACGT']\nScore: 56.0\n\nGap Extend Mutation\nOriginal alignment: ATCTG----CTAG\nOriginal Score: 64.0\nAfter Mutation: ATCTG-----CTAG\nScore: 68.0\n\nNo Mutation\nOriginal alignments: ['A-C-TGCA--AC-G', '-ATCTG----CTAG', '-ACCCGAGACT-G-', '---C-GTAAACGT-']\nScore: 30.0\n\n\nGeneration 13\n\nPopulation fitness: 1117.0\nMax Fitness: 93.0\nBest Fitness: 93.0\n\nNo Mutation\nOriginal alignments: ['A-C-TGCA-A-C-G', 'AT-CTGCTA---G-', 'ACCCGA--GACT-G', '--C-GT-AAACGT-']\nScore: 46.0\n\nNo Mutation\nOriginal alignments: ['ACT---GCAACG-', 'ATCTGCTA--G--', 'ACC--CGAGACTG', '--C-G-TAAACGT']\nScore: 56.0\n\nNo Mutation\nOriginal alignments: ['A-C-T-GCA-AC--G', 'ATCT-G-----CTAG', 'ACCCGAGA-CTG-', '--C-GTAAAC-GT']\nScore: 34.0\n\n\nGeneration 14\n\nPopulation fitness: 1181.0\nMax Fitness: 117.0\nBest Fitness: 93.0\nUpdated Best Value\n\nNo Mutation\nOriginal alignments: ['A-C-TGCA-AC-G', 'ATCTG----CTAG', 'ACCCGAGACT-G-', '--C-GTAAACGT-']\nScore: 30.0\n\nNo Mutation\nOriginal alignments: ['A-C-TGCA-AC-G', 'ATCTG----CTAG', 'ACCCGAGA-CTG-', '--C-GTAAAC-GT']\nScore: 64.0\n\nNo Mutation\nOriginal alignments: ['A----C---T--G--CAACG--', 'AT--C--TG-------CTA--G', '-ACC-CG------A-GAC-T-G', '--C-G-----TA--AA-C--GT']\nScore: 89.0\n\nGap Reduce Mutation\nOriginal alignment: ACCCGAGA-CTG-\nOriginal Score: 36.0\nAfter Mutation: ACCCGAGA-CTG\nScore: 36.0\n\n\nGeneration 15\n\nPopulation fitness: 1099.0\nMax Fitness: 117.0\nBest Fitness: 117.0\n\nNo Mutation\nOriginal alignments: ['A-C--TGCA-AC-G', 'ATCTG----CTAG-', 'ACCCG-AGA-CTG-', '--C-G-TAAAC-GT']\nScore: 64.0\n\nGap Open Mutation\nGap Open Position: 12\nMax Gap Block Size: 3\nGaps to be inserted: ---\nOriginal alignment: ACCCGAGA-CT---G-\nOriginal Score: 8.0\nAfter Mutation: ACCCGAGA-CT------G-\nScore: -45.0\n\n\nGeneration 16\n\nPopulation fitness: 1145.0\nMax Fitness: 117.0\nBest Fitness: 117.0\n\n\nGeneration 17\n\nPopulation fitness: 1885.0\nMax Fitness: 117.0\nBest Fitness: 117.0\n\nNo Mutation\nOriginal alignments: ['A-CTG-CAACG--', 'ATCTG---C-TAG', 'ACCCGAGA-CTG-', '--C-GTAAACG-T']\nScore: 117.0\n\nNo Mutation\nOriginal alignments: ['----ACT-GCA-AC--G', 'ATCTG------CT-AG-', 'A-CCCG--AGACTG---', '--C-GTAAAC---G-T-']\nScore: 70.0\n\n\nGeneration 18\n\nPopulation fitness: 2113.0\nMax Fitness: 117.0\nBest Fitness: 117.0\n\n\nGeneration 19\n\nPopulation fitness: 2541.0\nMax Fitness: 117.0\nBest Fitness: 117.0\n\n\nGeneration 20\n\nPopulation fitness: 2753.0\nMax Fitness: 117.0\nBest Fitness: 117.0\n\nNo Mutation\nOriginal alignments: ['A-CT-G---CAACG--', 'A-TC-TG--C--T-AG', 'AC-CCGAGA-C-TG--', '----C-GTAAA-CG-T']\nScore: 117.0\n\nNo Mutation\nOriginal alignments: ['-A-C--TG-CAACG--', 'A--TC-TG----CTAG', 'ACCCGA----GACTG-', '---C-GTAAACG-T--']\nScore: 117.0\n\n\nGeneration 21\n\nPopulation fitness: 2452.0\nMax Fitness: 117.0\nBest Fitness: 117.0\n\nGap Reduce Mutation\nOriginal alignment: --C-GTAAACG-T\nOriginal Score: 117.0\nAfter Mutation: -C-GTAAACG-T\nScore: 72.0\n\n\nGeneration 22\n\nPopulation fitness: 2849.0\nMax Fitness: 117.0\nBest Fitness: 117.0\n\nNo Mutation\nOriginal alignments: ['-A--CTG-CAACG----', 'ATCTG-----CT---AG', '-ACC-C-G-AGA--CTG', '--C----GTA-AACG-T']\nScore: 117.0\n\n\nGeneration 23\n\nPopulation fitness: 2596.0\nMax Fitness: 117.0\nBest Fitness: 117.0\n\nNo Mutation\nOriginal alignments: ['A-CTG--CAACG---', 'ATC-TG-----CTAG', 'ACCCGAG-A--CTG-', '-C--GTA--AACG-T']\nScore: 98.0\n\n\nGeneration 24\n\nPopulation fitness: 2903.0\nMax Fitness: 117.0\nBest Fitness: 117.0\n\nNo Mutation\nOriginal alignments: ['A-C--T-GCA-ACG----', 'A-TCT--G-----CT-AG', 'ACC--CG-AGA---CTG-', '--C-GTAAAC-----G-T']\nScore: 117.0\n\n\nGeneration 25\n\nPopulation fitness: 2782.0\nMax Fitness: 117.0\nBest Fitness: 117.0\n\nNo Mutation\nOriginal alignments: ['--A--CTG--CAACG--', 'ATCT--G------CTAG', '-ACCCGA-GA--C-TG-', '---C-GTAA-A-CG-T-']\nScore: 117.0\n\n\nGeneration 26\n\nPopulation fitness: 2798.0\nMax Fitness: 117.0\nBest Fitness: 117.0\n\nGap Reduce Mutation\nOriginal alignment: A-CTG-CAACG--\nOriginal Score: 117.0\nAfter Mutation: A-CTGCAACG--\nScore: 117.0\n\nNo Mutation\nOriginal alignments: ['A-----CTG-CAA-CG-', '-A-TCTG----CTA-G-', 'A-CCC-GAG---ACTG-', '------CGTAA-ACG-T']\nScore: 117.0\n\n\nGeneration 27\n\nPopulation fitness: 2139.0\nMax Fitness: 117.0\nBest Fitness: 117.0\n\nNo Mutation\nOriginal alignments: ['A-CTG-CAA-CG--', 'ATCTG-----CTAG', '-ACCCGAGA-CTG-', '--C--GTAAACG-T']\nScore: 117.0\n\n\nGeneration 28\n\nPopulation fitness: 2539.0\nMax Fitness: 117.0\nBest Fitness: 117.0\n\nNo Mutation\nOriginal alignments: ['A-CTG--CAACG--', 'ATCTG-----CTAG', 'ACCCGAGA--CTG-', '--C-GTAAACG-T-']\nScore: 117.0\n\nNo Mutation\nOriginal alignments: ['-----ACTGCAACG---', 'ATCT-G-----CTAG--', 'ACCCGA-G--A-CTG--', '----C-GTA-AA--CGT']\nScore: 117.0\n\n\nGeneration 29\n\nPopulation fitness: 2411.0\nMax Fitness: 117.0\nBest Fitness: 117.0\n\nNo Mutation\nOriginal alignments: ['A-CTG-CAACG--', 'ATCTG----CTAG', 'ACCCGAGA-CTG-', '--C-GTAAACG-T']\nScore: 117.0\n\n\nGeneration 30\n\nPopulation fitness: 2621.0\nMax Fitness: 117.0\nBest Fitness: 117.0\n16\n\nBest solution:\nA-CTG-CAACG--\nATCTG----CTAG\nACCCGAGA-CTG-\n--C-GTAAACG-T\n"
    },
    {
     "output_type": "execute_result",
     "data": {
      "text/plain": "(117.0, ['A-CTG-CAACG--', 'ATCTG----CTAG', 'ACCCGAGA-CTG-', '--C-GTAAACG-T'])"
     },
     "metadata": {},
     "execution_count": 5
    }
   ],
   "source": [
    "ga = GA_MSA(population_size=26, generations=50, min_generations=15, termination_generations=15, mutation_rate=0.05, gap_open_score=-2,gap_extend_score=-1, debug=True)\n",
    "ga.run(sequences=sequences)"
   ]
  },
  {
   "cell_type": "code",
   "execution_count": 7,
   "metadata": {},
   "outputs": [
    {
     "output_type": "execute_result",
     "data": {
      "text/plain": "-77.0"
     },
     "metadata": {},
     "execution_count": 7
    }
   ],
   "source": [
    "alignments=['-AC-T-GC-A----AC-G', 'A-TCT-G-CTA-----G-', 'AC--CC-G--AGACTG--', '--C--G-TAAACG-T---']\n",
    "ga.calculate_fitness(alignments)"
   ]
  },
  {
   "cell_type": "code",
   "execution_count": 3,
   "metadata": {},
   "outputs": [],
   "source": [
    "S1 = \"GKGDPKKPRGKMSSYAFFVQTSREEHKKKHPDASVNFSEFSKKCSERWKTMSAKEKGKFEDMAKADKARYEREMKTYIPPKGE\";\n",
    "S2 = \"MQDRVKRPMNAFIVWSRDQRRKMALENPRMRNSEISKQLGYQWKMLTEAEKWPFFQEAQKLQAMHREKYPNYKYRPRRKAKMLPK\";\n",
    "S3 = \"MKKLKKHPDFPKKPLTPYFRFFMEKRAKYAKLHPEMSNLDLTKILSKKYKELPEKKKMKYIQDFQREKQEFERNLARFREDHPDLIQNAKK\";\n",
    "S4 = \"MHIKKPLNAFMLYMKEMRANVVAESTLKESAAINQILGRRWHALSREEQAKYYELARKERQLHMQLYPGWSARDNYGKKKKRKREK\";\n",
    "\n",
    "sequences = [S1, S2, S3, S4]"
   ]
  },
  {
   "cell_type": "code",
   "execution_count": 4,
   "metadata": {
    "tags": [
     "outputPrepend"
    ]
   },
   "outputs": [
    {
     "output_type": "stream",
     "name": "stdout",
     "text": "MQD-R-VKR-P-------MN------A-F-IV-WS-R--D-QRRKMAL--E-N----P--R-MR-N-SE-IS--K-QLG--YQ-WKMLT--E---AEKWPFF-Q-E------A-QK--LQAM-H-R-EK-YPN--YKYR--PRRKAKMLPK', '--MK-KL-KKH-P-DFP-KKP-------LTP-YF-RFF-ME-K--RAKYAKLHPE-MSNL-DLTK---IL-SKKYK-ELPEKKKMKY--IQDFQRE-KQ-EFER-NLARF-RE---D-HPD-L-----------------IQNAK--K---', 'MHIKKP-L-NAFMLYMK-E-MRA-NVVA-ES---TL-KES--------AA---INQ--ILG-RRW-HALSR--------------------------E--E-QAKY-YELARKERQLHM--QLYPGWSA-RDN-Y--GKKKK-RKR-E--K']\nScore: 0\n\n\nGeneration 38\n\nPopulation fitness: -47191.0\nMax Fitness: -815.0\nBest Fitness: -230.0\n\nNo Mutation\nOriginal alignments: ['GK------GD---P-KK-PRGKM-SSY-AF-FV-QT-SRE-EHKKKH-PDASVNFS-E--FSKKCS-E-RWKTMSAKEKGK--F-E---------------DMAKADK--------AR-YEREMKTYI-P----PKG-E', 'MQDRVKR-P--------M-N---A-F-I--V-WSR--DQRRKMA-L-ENP--RMRN-SEISKQ-LG-Y--QW-KMLT----EA--EKWPFFQE-----A--QK-L-QAMH-REK-YPNYKYR----P--RRK-AKMLPK', '---MKKLKKHPDFPK-KP--LTP--YFRFFM-EK-RA-KY-A-K-LHPEMS-NL--D---LTKIL-SKKY---K-ELPEKKKMKYIQD-FQ--REK--QEFERNLARFREDH--P----D-LIQN--AK---------K', 'M---H---IKKPLNA--FMLY-MKEMRANVVA---E-S-TLKES-AAINQILGR-RW-H-ALSRE-----E--Q-AKY-----YEL-AR--K--ERQL----HM-Q-LYP--GWSA-RD-----N-YGKKKKRKREK--']\nScore: -815.0\n\nGap Extend Mutation\nOriginal alignment: GK--------GD--P-KKPRGKM-SSY-A-F-F-V---QTSREEHK-KK-HPD-A-SVN--FSE-FSK-KC-S--ERWKTM-SAKEK---GK--F-E--DMAKAD-K-----------AR----------Y-E-REM--K-T-YI-P---------PKGE\nOriginal Score: -1043.0\nAfter Mutation: GK--------GD--P-KKPRGKM-SSY-A-F-F-V---QTSREEHK-KK-HPD-A-SVN--FSE-FSK-KC-S--ERWKTM-SAKEK---GK--F-E--DMAKAD-K------------AR----------Y-E-REM--K-T-YI-P---------PKGE\nScore: -1012.0\n\nNo Mutation\nOriginal alignments: ['GK------GD-P-KKP----------------------R-GKMSSY-A-FF-V--QT-SREEHKKK-HP--DAS---VNF-SE-FSKKCS-E-R-W-KTMS---AKE-K-GK---F--E--D--MAKADK------------AR-Y-ER-EMKTY-I-P------PKGE', '-MQD---R--VK--RPMNAF--IV-WS---R-DQ--R---------RK---M--ALEN-P-RMRNSE-ISK--QLGYQ---WKML-T----E-AEKW---P-FF--Q-E-A-QKLQ---A-M-HREK-YP---------------NY--K--YRP-R-RKAKM-L-PK-', 'MK-K-LKKH----P-D-F-PKKPLTPYF-R-FFM-EKRAKY--AK--L-H-P-E--M-------------SNLD---LTKI--LSKK-Y-KEL--PEKKKMK---Y-IQD----FQ-R-E----K-QEFERNLARF--RE--DHP---D-LI--Q-NA----K-----K', 'M---H-----IKKPL--N-A--FM--L-YM--KEMRANVV-A----E-S-----T-LKE-----S-AAI-NQ-I-LGRRW--H-A-LSRE-----E-------QAK-Y---Y-ELAR-K-ERQ--L----HM-Q-LYP--GWSAR--D----NYGKKKK--RKRE--K-']\nScore: 0\n\n\nGeneration 39\n\nPopulation fitness: -47164.0\nMax Fitness: -815.0\nBest Fitness: -230.0\n\nNo Mutation\nOriginal alignments: ['GK---------G-D--PKKP-RGKMS-SYA-FF-V--QTS--RE--EHK--KK-HPDA--SVN----FS-E-FSK--KCS-ERWKTM--SAKEK--GK--F-E----D-MAKAD--K------A-R---------YE--RE--MKT--YI--P---------P-KGE', '-MQ-D-RVKRP---M-N---A------F-I---V-WSR--D-QRR---KMA-----LENP-RMR-N---SE-I-S-KQL----GY--QW--K--MLTE-AEK-WPFF---Q-E---A-QK-L---QAMH--REKYPNY-K--YR--P--RR-K---AKMLPK-----', '--MKKLKK-------------H--P-DFPK---KP----LTPYFRFF-ME-K-RAKYAKL-H-PE--MS------------NL--DLTK-IL-SKK-YKELPEKKKMKY-IQ--DFQR--EKQEFER-NLARFRE---D--H-PD--LI--------QNAK-K----', '-M--H----I--KKPLNAFM---LYMKEMRA-----------NVVA---E--S---TLKE--S-AAI-NQILGRRW-HALSRE--------E---QAK--Y-----YEL-AR-KER-QL---H-MQL--YP---G--W-SAR-D-----NYGKKKK-R--K-RE-K-']\nScore: -1000.0\n\n\nGeneration 40\n\nPopulation fitness: -46970.0\nMax Fitness: -815.0\nBest Fitness: -230.0\n\nGap Extend Mutation\nOriginal alignment: ----MQD--R-VK--RPMN-------AFIV-WS-R-DQ--R--------RK-M-ALENP-RMRNSE-ISK--QLGYQ--W-KMLT----EAE--K-W--P--FF-Q-E----A-QK-LQ-----A-MHREKYP-------NY--K-YRP--RRKAKM-L-PK--\nOriginal Score: -998.0\nAfter Mutation: ----MQD--R-VK--RPMN-------AFIV-WS-R-DQ--R--------RK-M-ALENP-RMRNSE-ISK--QLGYQ--W-KMLT----EAE--K-W--P--FF-Q-E----A-QK-LQ-----A-MHREKYP-------NY--K-YRP--RRKAKM-L--PK--\nScore: -986.0\n\nGap Reduce Mutation\nOriginal alignment: -M------H----IKKPL--N-AFM---L-YM-KEMRAN-VVA-----E-S---TLK-E--S--AA-IN-QILGRRW--H-AL-SRE--------E-QAKY---YEL-A--R-K--ERQL--HMQL-YP---GWSARD---NYGKKKKRKRE-K-\nOriginal Score: 0\nAfter Mutation: -M------H----IKKPL-N-AFM---L-YM-KEMRAN-VVA-----E-S---TLK-E--S--AA-IN-QILGRRW--H-AL-SRE--------E-QAKY---YEL-A--R-K--ERQL--HMQL-YP---GWSARD---NYGKKKKRKRE-K-\nScore: -946.0\n\n\nGeneration 41\n\nPopulation fitness: -46867.0\nMax Fitness: -827.0\nBest Fitness: -230.0\n\n\nGeneration 42\n\nPopulation fitness: -47228.0\nMax Fitness: -834.0\nBest Fitness: -230.0\n\nNo Mutation\nOriginal alignments: ['GK------GD--P-K-K--PRGKM-SSY-AF-FV-QT--SRE-EHKKKH-PDASVNFS-E-FSKKCS-E-RWKT-MSAKEKGK--F-E--------------------DMAKADK--------AR-YEREMKTYI-P---PKG-E', 'MQDRVKRP----M-N---A--F-IV--WSR--DQRR--KMA---LENP-RM-RN---S-EI-SKQ-L---GY--QW--K-MLTE-A-EKWPFF-QE----A-QK-L-QAMH-REK--YP-NYKYRP-----RRK----AKMLPK-', '--MK-KL-KKHP--DFPKKP----LTPYFRFFMEK-RAKYAKLH-PE---MSNL-DLTK---IL-SKKYK-ELPEKKK-MKY-IQDFQR-EKQEF-ERNLA-RFR-E----D-H-PDL----------------IQNAK--K---', 'M---H---IKKPLNA--FMLY-MKEMRANVVA-----E-STLKE--S-AAI-NQILGRR-WH-ALSRE------E---Q-AKY-----YEL-AR--K-ERQL----HM-Q-LYP--GWSA-R-D--N-YGK--KKKRKR-EK---']\nScore: -864.0\n\nGap Extend Mutation\nOriginal alignment: ----MQD----RVK-RPM-N---------AFIVWS-R--DQR-------RKM-A-LENPRMRNSE--ISKQLGYQ----------W-KMLT--EAE-KW---P---FF-Q-E---A-QKLQ--------A---------------MHREKYP----NYKYRP-RRK-AKML--PK---\nOriginal Score: -1165.0\nAfter Mutation: ----MQD----RVK-RPM-N---------AFIVWS-R--DQR-------RKM--A-LENPRMRNSE--ISKQLGYQ----------W-KMLT--EAE-KW---P---FF-Q-E---A-QKLQ--------A---------------MHREKYP----NYKYRP-RRK-AKML--PK---\nScore: -1057.0\n\nNo Mutation\nOriginal alignments: ['--GK-----G-DP--K-KPR--GKMSS-Y-A-F-F-V----QTS-REEH--KK-KHPDASVNF-S--E---FSKKC-S-E---RWKTMS-A--KEKGK----F-EDMA--KADK--------ARY-EREMKTYIP-------P----KGE', '--MQD---R-VK--RPMNAFIV-WS-R-DQR--------RK-M-ALENP-RMRNSE-ISK-QLGYQ--W-KML-T---E-AEKW----P-FF-Q-E-A-QKLQ---A-MHREK-YP------------NY--K--YRP-RRKAKML-PK-', 'MK-K-LKKH--P-D-F-PKKPLTPYF-RFFMEKRAKYAK--L-H-P--EM-----------SNLD-----LTKI---LSKK-Y-KEL--PEKKKMKYIQD---FQ-R-E--K-QEFERNLARFREDHP--D-LI--Q-NA----K----K', 'M---H-----IKKPL-N-A--FM--L-YM-KEMRANVVA----E-S--TLKE---S-AAINQ-I-LGRRW--H-ALSRE-----E-----QAKY--YELAR-K-ER-Q-L----HM-QLYP--GWSAR--D-----NYGKKKKRKRE-K-']\nScore: 0\n\nNo Mutation\nOriginal alignments: ['GK--------GD--P-KKPRGKMSSY-A-F--F-V---QTSREEHK-KK-HPDA-SVN--FS-E-FSK-KC-S---ERWKTM-SAKEK---GK--F-E-DMAKADK--------AR----------Y--E-REMKTYIP----------PKGE', 'MQD-R-VKR-P--------MN------A-F-IV-WS-R--D-QRRKMAL--E-N-----P--R-MR-N-SE-IS--KQLG---YQ-WKMLT--E----AEKWPFF-Q-E------A-QK--LQAM-H-R-EK-YPN-YKYR--PRRKAKMLPK', '--MK-KL-KKH-P-DFP-KKP-------LTP-YF-RFF-ME-K--RAKYAKLH-PE-MSNL-DLTK---IL-SKKYK--ELPEKKK-MKY--IQDFQRE--KQEFER-NLARF-RE---D-HPD-L----------------IQNAK--K---', 'MHIKKP-L-NAFMLYMK-E-MR-A--NVVA-ES--TL-KES--------AA---I-NQ--ILG-RRWHALSR---------------------------E---E-QAKY-YELARKERQLHM--QLYPGWSA-RDNY--GKKKK-RKR-E--K']\nScore: 0\n\n\nGeneration 43\n\nPopulation fitness: -47496.0\nMax Fitness: -820.0\nBest Fitness: -230.0\n\nNo Mutation\nOriginal alignments: ['GK-------GD--PKKPR----------GKMSSYA-FFV--QTSREEHKK-K-HPDA-SVN-FSE-FSK-KC-S-ERW-KTM-SAK-EK---G-KF-E--DMAKAD-K-------A-R-----------Y-EREM-KTYIP---------PKGE', '-M-QDRV--KRP-----M--N-A--F-I-V-W-SR--D-QR-R--KMA-----L-E-NP----RM-RN-SEI-SKQL-G-YQW-KMLTEA---EK-WPFF-QE---AQK-LQAMH-R--EK-YPNY-----KYR--P-R-R-K--AKMLPK---', '--MK-KL-KKH-P-DFP-KKP-----LTP-YF--RFF--ME--K---RAKYAKLH-PE-MSNL-DLTK--IL-SKKYKELP-EKKKMKY-IQDFQ-REKQEF-ERNLARF-RE--D--HPD-L-------------------IQNAK---K---', 'MHIKKP-L--NAFM-LYMK-EMRANVVA-E-S---TL-KES---------AA--I-NQ---ILG-RRWHALSR------------------------E--E-Q-AKY-YE-LARKERQL-HM--QLYPGWSA-RDN-Y--GKKKK-RKR-E--K']\nScore: -834.0\n\nGap Extend Mutation\nOriginal alignment: MK-K-LKKH--P-D-F-PKKPLTPYF-RFFMEKRAKYAK--L-H-P--EM------------S-NLD----LTKI---LSKK-Y-KEL--PEKKKMKYIQD---FQ-R-E--K-QEFERNLARFREDHP--D-LI--Q-NA----K----K\nOriginal Score: -952.0\nAfter Mutation: MK-K-LKKH--P-D-F-PKKPLTPYF-RFFMEKRAKYAK--L-H-P--EM------------S-NLD----LTKI---LSKK-Y-KEL--PEKKKMKYIQD----FQ-R-E--K-QEFERNLARFREDHP--D-LI--Q-NA----K----K\nScore: -925.0\n\nNo Mutation\nOriginal alignments: ['GK---------GD---P-KKPRG-KMSSY-AF-F-V----QTSREEHK--K-K-H---PDA-SVN--FS-E----FSK--KC---S--ERWKTM-SAKEK----GK--F-E-D-MAKADK---------AR-----------Y-ER--EMKT-YIP--------PK-GE', 'MQDRV---KR--P------M-N--AF-I--V-W-SR-DQRRKM--A-L-E-NP------RM-R-N--S-E-ISK--Q-LG-YQ-W-K-M-L-T------EAE--K-WPFFQ-E-------A-QKLQA--M-H--REKYPN---Y--KY-R--P---RR-K-AKM-LPK-', '--MK-KL-KKH-P-DFP--------------------------KKP------LTP-YF-RFF-ME-K--RAKYAKLH-PE-MSNL-DLTK---IL-SKKYK-ELPEKKKMKYIQDFQREKQEFER-NLARF-RE----DHPD-L---------------IQNAK--K--', 'MHIKK--P-L--NAFM-LYMK-EMR--ANVVAES--TLKES-------AA-----I---NQ--ILG-R-RW-H-ALSR--------------------------------E---E-QAKY--YELA-RKERQL-H-M---Q--LYPGWSA-RD-NYGKKKK-RKR-E-K']\nScore: 0\n\n\nGeneration 44\n\nPopulation fitness: -47597.0\nMax Fitness: -817.0\nBest Fitness: -230.0\n\nGap Extend Mutation\nOriginal alignment: GK--------GD--P-KKPRGKMSSY-A-F-F-V--QTSREEHK-KK-HPDA-SVN--FSE-FSK-KC-S-ERWKTM-SAKEK---GK--F-E-DMAKADK--------AR---------Y-EREMKTYI-P----------PKGE\nOriginal Score: -892.0\nAfter Mutation: GK--------GD--P-KKPRGKMSSY-A-F-F-V--QTSREEHK-KK-HPDA-SVN--FSE-FSK-KC-S-ERWKTM-SAKEK---GK--F-E-DMAKADK--------AR----------Y-EREMKTYI-P----------PKGE\nScore: -872.0\n\nNo Mutation\nOriginal alignments: ['GK--------GD--PKKPRGKMS-SYAFFV-QTS---RE-EHK----KKHPDA-SVN--FS---------------E-FSK--K---CS-ERWKTMSAKEK-GK--F--E----D--MA--KAD---K-----AR----------YE--RE-MKT-YI-P-----------P--KGE', 'MQD-R-V-KRP-----------MN----AF-IV-WS--R---DQRRK-MA-L--E-N--------P-R--MR-N-SEIS---KQLG-YQ-W-KM--LT---E-A-EKW-PF-F---Q-E----------AQKL-QA-M-H----R-E-K-----YPN-YKYR--PRR-KAKML-P-K', 'MK-K-LKKH---P-D-F---PKKPLTPY-FR-FF--MEKRA-K--YAK----L--H-P--EM-------S-NL-D------LTKI--L-SKK-Y-K--EL-P--EKKKMK-YIQD----FQ-R-E---K-Q-----EFERNLARF-R-E--DHP--D-L-I---Q--NA--K----K', '--M--H-----I-K-KP-LN-A--FM--L-Y-MK-EMRA------------NVVA-E-S---TLKES-AAI-NQILGRRW-HALSRE-------E----Q--AK--Y--------YE--L-AR-KER--QL--H-MQL----YP---G--WSARD----NYGKKKK-R--K-RE-K-']\nScore: 0\n\nNo Mutation\nOriginal alignments: ['GK---------GD--PKKPRGKMS--SYA-FF-V--QTS---RE--EHK----KKHPDA--SVN---FSE-FSK--K---CS-ERWKTM-SAKEK--GK--F--E----D-MA--KAD----K------A-R-----------YE---RE-MKT-YI--P-------------P--KGE', 'MQ-D--RVKRP-M-N---A-------F-I---V-WSR---D-QRR----KMA---LE-NP-R-MR-N-SE-I-S-K-QL----GY---QW--K--ML-TE-AE-K-WPFF---Q-E-----A-Q-K-L----QAM-H--REKYPNY-K-YR--P---RR--K----AKMLPK-------', '-MKKLKK-----------H-P-DFPK---KP----LTPYFRFF-MEKRAKYAKLHPE--MS--------------------------------------NL-DLTKILSKKYKELPEKKKMKY-IQ---DFQR--EKQEFER-NLARFRE--D-H-PDLI---------QNAK-K----', '--M--H-----I-K-KP-LNA--FM----L-YMK-EMRA------------NVVA-E--S----TLKESAAI-NQILGRRW-HALSRE---------E---Q-AK--Y------YE--L--AR-KER-QL---H-MQL----YP----G-W-SARD----NYGKKKK-R---K-RE-K-']\nScore: 0\n\nNo Mutation\nOriginal alignments: ['GK--------GD--P-KKPRG-KMSSY--A-F-F-V--QTSREE-HK-KK-H--P-DA-SVN--FSE-FSK-KC-S--ERW-K-TM-SAKEK--GK-F-E---D-MAKADK------AR------------Y-EREMKTYI-P----------PK-GE', 'M-QDRV--KR--P--------M-N---AF-I-----V-WSR-DQRRK-M--A-LENP-----RMR-N--SE-ISKQ--LGYQW-K-ML-T----EAEK-W-PFFQE--------A---QKLQA-MH-REKYPN--Y-KYR-P---RR-K-A-KMLPK-', '----MKKL-KKH--PDFP-K-KP-------LTP-YFRFFME-K--RAKY-AKLH-P-E--MSN-L-DLTK--IL--S-KKY-KEL-PEKKKMK-Y---IQDFQREKQEFE-R-NL-ARFRE--D-HP-D-L-------------I-QN-A-K-K----', '--M--H----IK-KPLNA-FM----LYMK-EMRA--------NVVA-E--S---TLKESA-AI-NQILGRRWHALSRE-------E---Q--AK--Y------YE-L--ARKERQL---H--MQL----YP--GWSARD-NYGKKKK-R---KRE-K-']\nScore: 0\n\n\nGeneration 45\n\nPopulation fitness: -47608.0\nMax Fitness: -817.0\nBest Fitness: -230.0\n\nGap Extend Mutation\nOriginal alignment: --M--H-----I-K-KP-LNA-FM---L-YMK-EMRA-----------NVVA-E--S---TLKES-AAI-NQILGRRW-HALSRE-------E---Q--AK---Y-------YE--L-AR-KER-QL--H-MQL---YP---G--WSARD---NYGKKKK-R--K-RE-K-\nOriginal Score: -1073.0\nAfter Mutation: --M--H-----I-K-KP-LNA-FM----L-YMK-EMRA-----------NVVA-E--S---TLKES-AAI-NQILGRRW-HALSRE-------E---Q--AK---Y-------YE--L-AR-KER-QL--H-MQL---YP---G--WSARD---NYGKKKK-R--K-RE-K-\nScore: -1050.0\n\nGap Reduce Mutation\nOriginal alignment: GK------GD--P-K-K--PRGKM-SSY-AF-FV-QT--SRE-EHKKKH-PDASVNFS-E-FSKKCS-ERWKT-MSAKEKGK--F-E--------------------DMAKADK--------AR-YEREMKTYI-P----PKG-E\nOriginal Score: -900.0\nAfter Mutation: GK------GD--P-K-K--PRGKM-SSY-AF-FV-QT--SRE-EHKKKH-PDASVNFS-E-FSKKCS-ERWKT-MSAKEKGK--F-E-------------------DMAKADK--------AR-YEREMKTYI-P----PKG-E\nScore: -875.0\n\nNo Mutation\nOriginal alignments: ['-GK---------G-DP-K--KPRGK-MSSY--A-F-F-V-----QTS--REE-H---KKKHPDA-S-VN-FS--E--FSKKCSE----RWKTMS-AKEK-GK------FE-DMA---KADK----ARYEREM-KTYIP------P-----KGE-', 'MQD-R-VKR--P-------MN-------A-F-IV-W-SR---D-QRRKMAL---E-N-----P--RMR-N--SE-IS--KQLG---YQ-WKMLT--E---AE-KWPFF-Q-E------AQK-LQAM-H-REKYPN--YKYR--PRRKAKMLP-K', '--MK--KL--KKH-P-DFP-KKP---LTPYFR-FFMEKRAKY-A--K-LH--PE--MSNL-DLTK---ILSKKYKELPEKKKMKYIQDFQREKQEFER-NLARFR-E---D-H--PDL------------------------I-QNAK--K---', 'MH-IKKP-LNAFMLYMKE-MR--ANVVA-ES--TL-KES-----AA--I-NQ--ILG-RRWHALSR----------------E-E--QA-KYYEL-ARKERQL-H-M---QLYPGW-SA--R------------DN-Y-GKKK-K--RKRE--K']\nScore: 0\n\nNo Mutation\nOriginal alignments: ['--GK------G-D--P--K-KPR--GK-MSS--YA-F--F--V-QTS-REEH--KK-K--HPDASVN-F--S--E--F-S---KK-CS--ER-WK--TMS--A-KE-KGK---F----EDM-A--KADK-----AR-YEREMKTYI-P---------P---KGE', '---MQD---RV--K-RP-MNAFIVWS-R-DQ-R--------R-KMA-LE-NP--RMRNSE--ISK--Q--LGYQW-KML--T----E-AEKW-P--FFQ--E-A---QK-LQ---A-M-HREK-Y-P-------NY--K---YRP-RRK-A-K-M-L---PK--', 'MKK-LKKHP-D-FPKKPLTPYFRFFMEKRAKYA-K-L-HP-EM--------SNLD--------------------LTKI-LSKK-Y-KEL-PEKKKMKYIQD--FQ-R-E-KQEFERNLARFREDHP-D------------------LI-Q-NA----K----K', 'M----H---IKK-PL-N-A--FM---L-YM---KEMRANVVA-E---S---TLK-E--S--AA-INQILGRRW-H--ALS-R-E-----E------Q--AKY---YEL-AR-K--ER-Q----L---HMQLYPGWSAR---D------NYGKKKKRKREK----']\nScore: 0\n\nNo Mutation\nOriginal alignments: ['--GK-----G-DP--K-KPR--GKMSS-Y-A--F-F-V--QTS-REEH-KK-KHPDASVNF--S--E---FSKKC-S-E---RWKTMS-A--KEKGK----F-EDMA--KADK--------ARY-EREMKTYIP-------P----KGE', '--MQD---RVK--RPMNAFIV-WS-R-DQR--------RKM-ALENP-RMRNSE-ISK-QLGYQ--W-KML-T---E-AEKW----P-FF-Q-E-A-QKLQ---A-MHREK-YP------------NY--K--YRP-RRKAKM-L-PK-', 'MK-K-LKKH-P-D-F-PKKPLTPYF-RFFMEKRAKYAK-LH-P--EM------------SNLD-----LTKI---LSKK-Y-KEL--PEKKKMK-YIQD---FQ-R-E--K-QEFERNLARFREDHP--D-LI--Q-NA----K----K', 'M---H----IKKPL-N-A--FM--L-YM-KEMRANVVA--E-S--TLKE---S-AAINQ--I-LGRRW--H-ALSRE-----E-----QAKY---YELAR-K-ER-Q-L----HM-QLYP--GWSAR--D-----NYGKKKKRKRE-K-']\nScore: 0\n\nGap Reduce Mutation\nOriginal alignment: GK---------GD--PKKPRGKMSSY-A-F-F-V---QTSREEHK-KK-HPDA-SVN--FSE-FSK-KCS--ERWKTM-SAKEK-GK--F--E--DMAKADK----------AR---------Y-E--REM-KT-YI-P---------PKGE\nOriginal Score: 0\nAfter Mutation: GK---------GD--PKKPRGKMSSY-A-F-F-V---QTSREEHK-KK-HPDA-SVN--FSE-FSK-KCS--ERWKTM-SAKEK-GK--F--E--DMAKADK----------AR---------Y-E-REM-KT-YI-P---------PKGE\nScore: -913.0\n\n\nGeneration 46\n\nPopulation fitness: -48006.0\nMax Fitness: -817.0\nBest Fitness: -230.0\n\nNo Mutation\nOriginal alignments: ['-GK-----GDP---K-KPR--GKMSSY-A-F-F--V---QTSREEH--KKKHPDASVNF-S--E--FSKKC-SE---RWKTMS--A--KEKGK----F--EDMA--KADK-------ARY-EREMKTYIP-------P----KGE', 'MQD-R-VKR-P-------MN-----A-F-IV-WS-R-D--QRRKMAL--E-N----P--R--MR-NS-E-IS-KQLG--YQ-WKMLT--E---AEKWPFF-Q-E-----AQK-LQAM-H-REK-YPN--YKYR--PRRKAKMLPK', '--MK-KL-KKH-P-DFP-KKP------LTP-YF-RFFME-K-RAKYAKLHPE-MSNL--DLTK--IL-SKKYKELPEKKKMKY---IQDFQRE-KQE-FER-NLARFRE--DHPD-L-----------------IQNAK--K---', 'M---H----IKKPL-N-A--FM--LYM-KEMRANVVA---ES--TLKE--S-AAINQ-I-LGRRW-H-ALSRE----E-----QAKY---YELAR-K-ER-Q-L----HMQL-YP--GWSAR--D-----NYGKKK-KRKRE-K-']\nScore: 0\n\n\nGeneration 47\n\nPopulation fitness: -48239.0\nMax Fitness: -839.0\nBest Fitness: -230.0\n\nGap Extend Mutation\nOriginal alignment: MQD-R-VKR-P-------MN------A-F-IV-WS-R--D-QRR-KMAL--E-N-----P-R-MR-N-SE-IS--KQLG--YQ-WKMLT--E---AEKWPFF-Q-E-----AQK--LQAM-H-REK-YPN--YKYR--PRRKAKMLPK\nOriginal Score: -892.0\nAfter Mutation: MQD-R-VKR-P-------MN------A-F-IV-WS-R--D-QRR-KMAL--E-N-----P-R-MR-N-SE-IS--KQLG--YQ-WKMLT--E---AEKWPFF-Q-E-----AQK--LQAM-H-REK--YPN--YKYR--PRRKAKMLPK\nScore: -851.0\n\nGap Extend Mutation\nOriginal alignment: --MK-KL-KKH-P-DFP-KKP-------LTP-YF-RFFME-K--RAKYAKLHPE-MSNL--DLTK---IL-SKKYK-ELPEKKKMKY--IQDFQRE-KQEFER-NLARFRE--DHPD-L-----------------IQNAK--K----\nOriginal Score: -883.0\nAfter Mutation: --MK-KL-KKH-P-DFP-KKP-------LTP-YF-RFFME-K--RAKYAKLHPE-MSNL--DLTK---IL-SKKYK-ELPEKKKMKY--IQDFQRE-KQEFER-NLARFRE--DHPD-L-----------------IQNAK--K-----\nScore: -879.0\n\nGap Reduce Mutation\nOriginal alignment: MQD------------------------RVKRP----M-N---A--F-IV-WSR-DQRR--KMA--LENP-RM-RN--S-EI-SKQL---GY--QW--K-MLTE-A-EKWPFF-QEA-QK-LQAMH-REK--YPNYKYRP-----RRK----AKMLPK-\nOriginal Score: -1055.0\nAfter Mutation: MQD-----------------------RVKRP----M-N---A--F-IV-WSR-DQRR--KMA--LENP-RM-RN--S-EI-SKQL---GY--QW--K-MLTE-A-EKWPFF-QEA-QK-LQAMH-REK--YPNYKYRP-----RRK----AKMLPK-\nScore: -971.0\n\nGap Extend Mutation\nOriginal alignment: MK---KLKKH-P--D-F-P-KKPLT-PYF-RF--FM-EKRA-KY-AK-L-H-P--EM-------------SNLD--LTKI---LSKK-Y-K-EL-PEKK-KMKY-IQD----FQ-RE--K-QEFERNLARFREDHP--D----LI-Q--NA----K----K\nOriginal Score: -930.0\nAfter Mutation: MK---KLKKH-P--D-F-P-KKPLT-PYF-RF--FM-EKRA-KY-AK-L-H-P--EM-------------SNLD--LTKI----LSKK-Y-K-EL-PEKK-KMKY-IQD----FQ-RE--K-QEFERNLARFREDHP--D----LI-Q--NA----K----K\nScore: -906.0\n\n\nGeneration 48\n\nPopulation fitness: -47405.0\nMax Fitness: -825.0\nBest Fitness: -230.0\n\nGap Reduce Mutation\nOriginal alignment: --MQD---RVK--RPMNAFIV-WS-R-DQR--------RK-M-ALENP-RMRNSE-ISK-QLGYQ--W-KML-T---E-AEKW----P-FF-Q-E-A-QKLQ---A-MHREK-YP------------NY--K--YRP-RRKAKM-L-PK-\nOriginal Score: -930.0\nAfter Mutation: --MQD---RVK--RPMNAFIV-WS-R-DQR-------RK-M-ALENP-RMRNSE-ISK-QLGYQ--W-KML-T---E-AEKW----P-FF-Q-E-A-QKLQ---A-MHREK-YP------------NY--K--YRP-RRKAKM-L-PK-\nScore: -891.0\n\nNo Mutation\nOriginal alignments: ['G-K------GD-P-K-KP-RGKMSS--YAF-F-V-Q-TSREEHKKK-H-P-DA-SVN-FSE-F-S-K--KCS--ERWK-TM-SAKEK---GK----------F-E-DMAKAD-K---------AR--------YE-REMKTYIP-----------PK-GE', '-MQD---RVK----RPMNAF-I-V-WSR-DQR-------RK-M---ALENPR-M-RNS-E-I-SK-QLGYQ-W-K-ML-T---E-AEKW-----P-FF-Q-E--A--QKLQ---A--MHRE--K-Y-P----------NY-K-YRP-RRKAKM-L-PK--', '-MK-KLKKH-PD-FP---------------------------KKP----LT-PYF-RFF-MEK--RAKYAKLH-PE-MSNL-DLTK--IL-SKKYKELPEKKKMKY-IQDFQREKQEFER-NLA-R-FRE--DHPD-L------------IQNAK--K--', 'M----H-----IK-KP--L-N-A--FM-LYM-KEMRAN-VVA----E--S--TL-KE----S--AAINQ-ILGRRW--H-ALSRE-----E------QAKY----Y-ELAR--K-ER--Q-L----HMQLYP-GWSAR-D---N-YGKKKKR-KRE-K--']\nScore: 0\n\n\nGeneration 49\n\nPopulation fitness: -48035.0\nMax Fitness: -825.0\nBest Fitness: -230.0\n\n\nGeneration 50\n\nPopulation fitness: -48206.0\nMax Fitness: -825.0\nBest Fitness: -230.0\n\nGap Extend Mutation\nOriginal alignment: MHI-KKP-LNAFMLY--MK-EMR-ANVVA-ES-TLKES-------AA----I-NQ--ILG--RRWHALSR-----------------------------E--E--QAKY-YE-LARKERQLHM--QLYPGWS-A-RDNY--GKKKKRKRE---K-\nOriginal Score: 0\nAfter Mutation: MHI-KKP-LNAFMLY--MK-EMR-ANVVA-ES-TLKES-------AA----I-NQ--ILG--RRWHALSR-----------------------------E--E--QAKY-YE-LARKERQLHM---QLYPGWS-A-RDNY--GKKKKRKRE---K-\nScore: -927.0\n\nNo Mutation\nOriginal alignments: ['-GK-----GDP---K-KPR--GKMSSY-A-F-F--V---QTSREEH--KKKHPDASVNF-S--E-FSKKC-SE---RWKTMS--A---KEKGK----F--EDMA--KADK-------ARY-EREMKTYIP-------P-----KGE', 'MQD-R-VKR-P-------MN-----A-F-IV-WS-R-D--QRRKMAL--E-N----P--R--MRNS-E-IS-KQLG--YQ-WKMLT--E---AEKWPFF--Q-E-----AQK-LQAM-H-REK-YPN---YKYR--PRRKAKMLPK', '--MK-KL-KKH-P-DFP-KKP------LTP-YF--RFFME-K-RAKYAKLHPE-MSNL--DLTK-IL-SKKYKELPEKK-KMKY---IQDFQRE-KQE-FER-NLARFRE--DHPD-L-----------------IQNAK--K---', 'M---H----IKKPL-N-A--FM--LYM-KEMRANVVA---ES--TLKE-S-AAINQ-I-LGRRWH-ALS-RE----E------QAKY---YELAR-K-ER-Q--L----HMQL-YP--GWSAR--D-----NYGKKK-KRKRE-K-']\nScore: 0\n\n\nGeneration 51\n\nPopulation fitness: -48911.0\nMax Fitness: -804.0\nBest Fitness: -230.0\n51\n\nBest solution:\nGK-----GD-PKKPRGKMSSY-AFFVQTSREEHKKKHPDASVNFSEFSKKCSERWKTMSAKEKGKF-EDMAKADK-------ARYEREMKTYIP-----PKGE\nMQDRVKRPMNAFIVWSRDQRRKM-ALENPRMRNSE-ISKQ-LGYQWKMLT-EAE--KWPFF-QE-AQK-LQAMHREKYP-------NY-KYRPRRKAKM-LPK\nMKKLKKHPDFPKKP---LTPYFRFFME-KRAKYAKLHPEMS-NL-DLTKILSKKYKELPEKKKMKYIQDFQR-EKQEFERNLARF-RE--DH-PDLIQNAK-K\nMHIK-KPL-NAFMLYMKEMRANVVAESTL-KESAA-INQI---LGRRWHALS-REE-QAKYYELARKERQLHMQ--LYPG---WSARDN-YG-KKKKRKRE-K\n"
    }
   ],
   "source": [
    "ga = GA_MSA(population_size=50, generations=100, min_generations=50, mutation_rate=0.05, gap_open_score=-2,gap_extend_score=-1, debug=True)\n",
    "best_val, best_alignment = ga.run(sequences=sequences)"
   ]
  },
  {
   "cell_type": "code",
   "execution_count": 6,
   "metadata": {},
   "outputs": [],
   "source": [
    "from Bio import SeqIO\n",
    "from Bio.Seq import Seq\n",
    "from Bio.SeqRecord import SeqRecord\n",
    "from Bio.Alphabet import IUPAC\n",
    "\n",
    "sequence_records = list()\n",
    "for i, aln in enumerate(best_alignment):\n",
    "    sequence_records.append(SeqRecord(Seq(aln,\n",
    "                       IUPAC.protein),\n",
    "                   id=\"YP_025292.\" + str(i)))\n",
    "with open(\"example.fasta\", \"w\") as output_handle:\n",
    "    SeqIO.write(sequence_records, output_handle, \"fasta\")"
   ]
  },
  {
   "cell_type": "code",
   "execution_count": 12,
   "metadata": {},
   "outputs": [
    {
     "data": {
      "text/plain": [
       "[SeqRecord(seq=Seq('GKGDP---KKPRGKMSSYAF--FVQTSR-----EEHKKKHPDASVNFSEF-SKK...-E-', IUPACProtein()), id='YP_025292.0', name='<unknown name>', description='<unknown description>', dbxrefs=[]),\n",
       " SeqRecord(seq=Seq('MQD-RVKR-PM-NAF----IV-WSR---DQRRKMA-LENPRMRN---SEI-SKQ...LPK', IUPACProtein()), id='YP_025292.1', name='<unknown name>', description='<unknown description>', dbxrefs=[]),\n",
       " SeqRecord(seq=Seq('MKKLKKHPDFPKKP----LTPYFRFFME--K-RAKYAKLHPEMS-NL-DLTKIL...K-K', IUPACProtein()), id='YP_025292.2', name='<unknown name>', description='<unknown description>', dbxrefs=[]),\n",
       " SeqRecord(seq=Seq('-----MHIKKP---LN--AFMLYMKEMRANVVAESTLKE--SAAIN--QILGR-...REK', IUPACProtein()), id='YP_025292.3', name='<unknown name>', description='<unknown description>', dbxrefs=[])]"
      ]
     },
     "execution_count": 12,
     "metadata": {},
     "output_type": "execute_result"
    }
   ],
   "source": [
    "sequence_records"
   ]
  },
  {
   "cell_type": "code",
   "execution_count": 14,
   "metadata": {},
   "outputs": [
    {
     "data": {
      "text/plain": [
       "-491.0"
      ]
     },
     "execution_count": 14,
     "metadata": {},
     "output_type": "execute_result"
    }
   ],
   "source": [
    "best_val"
   ]
  },
  {
   "cell_type": "code",
   "execution_count": null,
   "metadata": {},
   "outputs": [],
   "source": []
  }
 ],
 "metadata": {
  "@webio": {
   "lastCommId": null,
   "lastKernelId": null
  },
  "kernelspec": {
   "display_name": "Python 3.8.1 64-bit",
   "language": "python",
   "name": "python_defaultSpec_1599537485694"
  },
  "language_info": {
   "codemirror_mode": {
    "name": "ipython",
    "version": 3
   },
   "file_extension": ".py",
   "mimetype": "text/x-python",
   "name": "python",
   "nbconvert_exporter": "python",
   "pygments_lexer": "ipython3",
   "version": "3.8.1-final"
  }
 },
 "nbformat": 4,
 "nbformat_minor": 4
}
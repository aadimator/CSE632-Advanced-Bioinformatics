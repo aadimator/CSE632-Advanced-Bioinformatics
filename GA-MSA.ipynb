{
 "cells": [
  {
   "cell_type": "markdown",
   "metadata": {},
   "source": [
    "# Multiple Sequence Alignment using Genetic Algorithms"
   ]
  },
  {
   "cell_type": "code",
   "execution_count": 2,
   "metadata": {},
   "outputs": [],
   "source": [
    "import pandas as pd\n",
    "import numpy as np \n",
    "from random import randint, uniform\n",
    "from dataclasses import dataclass\n",
    "\n",
    "from Bio.Align import PairwiseAligner\n",
    "from Bio.SubsMat.MatrixInfo import blosum62\n",
    "from utils import Utils\n",
    "from ga import GA_MSA\n",
    "from vose_sampler import VoseAlias\n",
    "from Bio.pairwise2 import align"
   ]
  },
  {
   "cell_type": "code",
   "execution_count": 3,
   "metadata": {},
   "outputs": [],
   "source": [
    "# Utils.get_interval_gaps(\"A-----BC--\", 3)"
   ]
  },
  {
   "cell_type": "code",
   "execution_count": 4,
   "metadata": {},
   "outputs": [],
   "source": [
    "# seq1 = \"CARTABLANCHE\"\n",
    "# seq2 = \"CARTE\""
   ]
  },
  {
   "cell_type": "code",
   "execution_count": 5,
   "metadata": {},
   "outputs": [],
   "source": [
    "sequences = [\"ACTGCAACG\", \"ATCTGCTAG\", \"ACCCGAGACTG\", \"CGTAAACGT\"]"
   ]
  },
  {
   "cell_type": "code",
   "execution_count": 6,
   "metadata": {},
   "outputs": [],
   "source": [
    "# GA_MSA.compute_pairwise_alignments(sequences)"
   ]
  },
  {
   "cell_type": "code",
   "execution_count": 7,
   "metadata": {
    "tags": []
   },
   "outputs": [
    {
     "output_type": "stream",
     "name": "stdout",
     "text": "Initializing Population\nRunning GA\n\nBest solution:\nACTG-CAACG---\nATCTG----CTAG\nACCCGAG-ACT-G\n--C-GTAAACGT-\n"
    },
    {
     "output_type": "execute_result",
     "data": {
      "text/plain": "(125.0, ['ACTG-CAACG---', 'ATCTG----CTAG', 'ACCCGAG-ACT-G', '--C-GTAAACGT-'])"
     },
     "metadata": {},
     "execution_count": 7
    }
   ],
   "source": [
    "ga = GA_MSA(population_size=50, generations=100, min_generations=50, mutation_rate=0.05, gap_open_score=-2,gap_extend_score=-1)\n",
    "ga.run(sequences=sequences)"
   ]
  },
  {
   "cell_type": "code",
   "execution_count": 2,
   "metadata": {},
   "outputs": [],
   "source": [
    "S1 = \"GKGDPKKPRGKMSSYAFFVQTSREEHKKKHPDASVNFSEFSKKCSERWKTMSAKEKGKFEDMAKADKARYEREMKTYIPPKGE\";\n",
    "S2 = \"MQDRVKRPMNAFIVWSRDQRRKMALENPRMRNSEISKQLGYQWKMLTEAEKWPFFQEAQKLQAMHREKYPNYKYRPRRKAKMLPK\";\n",
    "S3 = \"MKKLKKHPDFPKKPLTPYFRFFMEKRAKYAKLHPEMSNLDLTKILSKKYKELPEKKKMKYIQDFQREKQEFERNLARFREDHPDLIQNAKK\";\n",
    "S4 = \"MHIKKPLNAFMLYMKEMRANVVAESTLKESAAINQILGRRWHALSREEQAKYYELARKERQLHMQLYPGWSARDNYGKKKKRKREK\";\n",
    "\n",
    "sequences = [S1, S2, S3, S4]"
   ]
  },
  {
   "cell_type": "code",
   "execution_count": 8,
   "metadata": {
    "tags": [
     "outputPrepend"
    ]
   },
   "outputs": [
    {
     "name": "stdout",
     "output_type": "stream",
     "text": [
      "--AEK--W-PFFQEA-Q-K-L-Q---AMHREKY--PNYKYR-PRRKAK-M--LPK\n",
      "MKKLKKHP-DF-P-KKPLTPY--F--RFFMEK-RAK-YAK-LHPE-M-SNLDLTKI--LS-K-------------------KYKEL--PE-KK---KMKY-IQ-----DFQREK-QEFE-R-N-L-ARFRE---D-H-P-DL-IQ-NAK-K\n",
      "---MH-IK-KP-----L-N-----AFMLY-MKEMR-A---NV-VAE--ST-L-KE--S-A------------A--IN-Q-ILGRR-WH-AL-SR--EEQAKYY-ELA-R---K-E--RQLHM---QLY-PGWS-ARDNY-GKKKKRKR-EK\n",
      "\n",
      "Organism #72\n",
      "Fitness Score: -1050.0\n",
      "-G--KGDP----------K--KPRGKMSS-Y-----AF-F-VQ-TS---R---EEHKK--K-H-PD--AS-VN-FSEF----SKKCSER-W--KT-MSAK-EKGKFED-MAK-ADKAR-YE--R---E-M--KTYI-P----PK-------G------E--\n",
      "----M-Q------DRV---KRPMN----AF--IV-WS-RDQ-RR-K--M-A-LEN-PR-M-R-N-SE--I--SK--QLGYQ-----WK---ML-T-E------AEK--WPFFQEA-Q-K--LQ-AMH---REKY---PN-YKYR---PRRKA-K--M-LPK\n",
      "MKK-L-K-KHPDF---PKKPLTPYF----RFFMEK-R-AK--Y-A-KLH--PE-M-S-NLD--LTKILSK-KY-----KE-LPEK-KKMK---Y--IQDF--Q---REKQ-EFE-R-NL---A-R-FREDH-P-----D-LIQ-N--A-K-------K---\n",
      "---MH--IKKP------LN------AFMLYM-K-EM-R-A--------------NV-V-AE--S-T-L-KES-A----------A-I-N--Q--ILGRRWHAL-SR-EEQ-AKYYELA-R---K-E--RQLHM--QLY-PGWS-ARDNY-GKKKKRKR-EK\n",
      "\n",
      "Organism #73\n",
      "Fitness Score: -938.0\n",
      "--G----KG-DP-----K-KP-RGKM-SSY--A--F---FVQTS------R-----EEHKK-KHPDA-SVNFSE-F--S--KK-CSER--WKTM--SAKEKGKFE-D-MAK-A-DKARYER-E--MKTYIP---PK----G---E--\n",
      "---MQ-DRV----KRPMN-----AF-IVWS-RDQR-RKM-A-LE--N--PR--M-R---NSE---I--SK--Q-LGY--Q----W--KMLT----E--AEKW-PF-FQEA-Q-KL-QA--MHREKYPNY-KYR-P-R-RKA-KMLPK\n",
      "MKK--LKKHP-DFP--KKPLTP-Y--F--RFFMEK--RAKY-AKLHPEMSNLDLTK-I-LS-K-----------KYKEL---PEKK----KMKYI-Q---DFQRE-KQEF----ER--N-L--ARFRE----D-H-PD-L-IQNAKK\n",
      "M-----H--IKKP-L---N-AFMLYMKEMRAN--VVA---E---S-----TL-KESA--AINQILGRR--WHA--LS---REEQA-KY--YE-LA-R---K-ER-Q-L---HMQLYPG-WS-A-RD--N-YGKKK-K-R-KRE---K\n",
      "\n",
      "Organism #74\n",
      "Fitness Score: -891.0\n",
      "--G----KGDP----KKP-RGKM-SS-Y-A-F----F-VQTS------R-----EEHKK-KHP-D-AS-VNFSEF--S-KK-CSER-WKTM--SAKEKGKFE-D-MAK-A-DKARYER-E--MKTYIP---PK---G----E-\n",
      "---MQ-DRV---KRPMN----AF-IVW-S-RDQR-RKM--A-LE-N--PR-M-R--NSE-----I--S-K--Q-LGY--Q-----W-K-MLT---E--AEKW-PF-FQEAQ-KLQA-MHREKYPNYKYR-P-R-RKA-KMLPK\n",
      "MKKLKKHP-DF-P--KKPLTP-Y--F---RFFMEK--RAK-YAKLHPEMSNLDLTK-I-LS-K---------------KYKEL--PEKK---KMK-YIQ---DFQRE-KQEFER--N-L-ARFRE--D-H-PD-L-IQ-NAKK\n",
      "M----H---IKKP-L--NAFM-LYMKEMRANVV-A----E-S----T-LKESA--AINQILGRR-WHALS-RE-EQ-A-KY-----YE-LA--R-K-ER-Q-L---HM--QLYP-G-WSA-RD---N-YGKK-KKR-KRE--K\n",
      "\n",
      "Organism #75\n",
      "Fitness Score: -1041.0\n",
      "-G-KGDP----KKPRGKM---------------------SSYAFFVQTSR----E---EH--K--KK-HPDASVNFSEF-SKKCSER-WKTM-SAKE--K-GK-F-E---DMA-K-AD-K-AR-YE--R-E------MKT-Y--IP---PK--G----------E-\n",
      "-MQ--DRV---K------R-P-MN---AF-------IVW-SR--DQ-RR-KMA---L-ENPR--MRN---SE-----I-S-K---QL-G-YQ--------W-KML-T-E-A--EKWPF-F-QEAQKL-QAM------H---R-EKYP-NYKYRP--RRKAKMLPK-\n",
      "MKK-L-K-KHPDF---PKKPLTPYF----RFFMEK-R-AK--Y-A-KLH----PE-M-S-NLD--LTKILSK-KY------KE-LPEK--KKMK---Y--IQD-F--Q---REKQ-EFE-R-NL---A-R-FREDH-P-----D-LIQ-N--A-K-------K---\n",
      "----MH--IKKP-----LN------AFMLYMKEM-R-A----------------NV-VAE--ST-L-KE-S-A-------------A--I-N-Q--ILGRR-WH-AL-SR-EEQ-AKYYEL-A-R---K-E--RQLHM--QLY-PGWS-ARDNY-GKKKKRKR-EK\n",
      "\n",
      "Organism #76\n",
      "Fitness Score: -909.0\n",
      "--G----KG-DP-----K-KP-RGKM-SS-Y--A-F---F-VQTS------R-----EEHKK-KHPDA-S-VNFSEF--S-KK-CSER---WKTM-SAKEKGKFE-D-MAK-A-DKARYER-E--MKTYIP---PK----G---E--\n",
      "---MQ-DRV---KRPMN-----AF-IVW-S-RDQR-RKM--A-LE--N--PR--M-R--NSE---I--S-K--Q-LGY--Q----W-K-MLT---E--AEKW-PF-FQEA-Q-KL-QA--MHREKYPNY-KYR-P-R-RKA-KMLPK\n",
      "MKK-LKKHP-DF-P--KKPLTP-Y--F---RFFMEK--RAK-Y-AKLHPEMSNLDLTK-I-LS-K------------KYKEL--PEKK----KMKYI-Q---DFQRE-KQEF---ER--N-L--ARFRE---D-H-PD-L-IQNAKK\n",
      "-----M--HIK-K-P---LN--AF-MLY-M-KEMR--A--NV---VAESTLKE-S---AAINQILGR-RWHA-L-SREEQ-AKYYE--LAR-K-E-R-Q-LH-M--Q-L--Y---P-GWSARDN----YG-KKK--K--R-KREK--\n",
      "\n",
      "Organism #77\n",
      "Fitness Score: -1029.0\n",
      "-G-KGDP----KKPRGKM------------------SSYAFFVQTSR----E---EH--K--KKHPDASVNFSEFSKKCSER-WKTM-SAKE--K-GK-F-E---DMA-K-AD-K-AR-YE--R-E------MKT-Y--IP---PK--G----------E-\n",
      "----MQ--DRV------KRPMN---AF---I-VWSRD-QRR-K-M----ALE-N-PR-MR-NSE-I--SK----Q--L--G-YQ-----WK-ML-T-E----AEK--W-PF-FQEA-QK-L---Q----AMHREKY--PNYKYR--PRRKAK--M-L--PK\n",
      "MKKLK-KHP-DF-P-K-KPL-TPYF-RFF-MEK--RAK--YAKLHPEM-SNLDLTK-I-LS-K---------------------KYKEL--PE-KK----KMKY-IQ------DFQ-REK-QEF--E-R--N-L-ARFRE---D-H-P-DL--IQNA-KK-\n",
      "------MH--I-K--KP---L--N---AFML-YMK-EM----RA-NV-VAE-ST-L-K-ES-A-------------A--IN--Q--IL-GRR--WH-AL-S-R----EEQAKYYEL-AR--K-E--RQL-HM---Q-L-YPGWS-ARDNY-GKKKKRKREK\n",
      "\n",
      "Organism #78\n",
      "Fitness Score: -969.0\n",
      "--G---KGDP-----K-K-P-R-GK-MS---SY--A-F---FVQTS---R-------EE--HKKK--HPD--ASVN---FSEF-SKKCSER-WKTM-SAKEKGKFEDM-AK-AD---KAR-Y-ER--E--M-KTYIP---PK----------G-----E-\n",
      "-MQ--DRV---K------R-P-MN---AF-------IVWSR--DQ--RR-KMA---L-ENPR-MRN---SE---I-S-K----QL-G-YQ------W-KML-T-EA-EK-WPF-F-QEAQKL-QAM-----H---R-EKYP-NYKYRP--RRKAKMLPK-\n",
      "MKKLKKH-PDF---P-K-KPLT----PY--F---RFFM-E-K-R-AKYAKLHPE-M--SNLDLTK-I--LS-K------------K---YKELPEKK--K-M-K-Y---IQ-DFQREKQ-E-F-ER---NLA--RFRED--H-PDL--I-Q--N---AKK\n",
      "M--H-IKK-PL-NAF---M---LYMK-EMRANVV-A----ES-T----L-KES-A-----AIN-QILGR-RW-HAL-S-RE-EQA---KY---YELAR--K---ERQ--L---H--M-QLYP-G--W-SA-R-D---N-YGKK-KK--RKR---E----K\n",
      "\n",
      "Organism #79\n",
      "Fitness Score: -979.0\n",
      "GKGDP-KK-PRGKMSSY-AFFVQTSR------E-----------------------EHKKKHPDASVNFSEFS-KKCSE-RWK-TMSA-KEKGK-FE---DMAKA-DKAR--YE-R-EMKT-YIP---P---K-G----------E---\n",
      "-----MQ-DRV----KRPMN---AF---IVWS-RDQRR-KM----ALE--NPRM-R-NSE--I--SK----Q--L--G-YQ-----WK-ML-T-E--A-EK---W-PFFQEA-Q-K-L-Q-AMHREKY--PNYKYR-PRRKAKM--LPK\n",
      "MKKLKK--H-PDF-PKK-P----L-TPYFRF-F-MEK-RAKY--A--K-LH--PEMS--NL---DLT-KILS--KKYK--ELP---EKK-KMKYIQ-D--FQR-EKQEF-ERN-LA--RFRE---DH-PDL-IQ---N-----AK--K-\n",
      "------M-HIK-K-P--LN-AF-MLYM--KEMR---A--NV-VAESTLKE-S----AAINQILGR-----R-WHALSREEQ-AKYYE--LAR--K---E--R-Q-LH-M--Q-L--Y--PGWSARDN---YG-KKKK--R-KRE--K--\n",
      "\n",
      "Organism #80\n",
      "Fitness Score: -1058.0\n",
      "GKGD--P--KKPRGKM--SSY-AF--FVQTS-R------EEH-KKKH-PDA-SVN-F-SEFSKKCSERWKTMSAKEKGKFEDMAKADKAR-YE-R--E------------------------------------MKTYIP----P-K---G---------E-\n",
      "-----MQ-DRV----KRPMN-----AF----I--VWS-RDQRR-KM----A-LE--N-P-RM-R--NSE--I--SK----Q--L---G-YQ------WK-ML-T-E--AEK---WPFF-QEA-Q-K-L-Q-AMHREKY--PNYKYR--PRRKAK--M--LPK\n",
      "M--KK-LKK--HPDF-PKK--P-LTPYF--R----FF-ME--KRA--K-Y-A-K-LHP------E-M---SN--L-D---L-TK-IL-S-KK-Y-KE-LP-E---KK-K-MK-Y--IQDFQR-EKQE-FERNLAR--FR-E-DH--P--D-LIQN-AK--K-\n",
      "------M-HI-K-K-P-----L-N-----AF-MLYM-KEMR--A--NV-VAE-ST-LKE--S------AAI-N-QILG-R---RWHALSREEQ--AK-YYE-LAR--K-E--R-Q-LH-M--Q-L--Y----P-GWS-ARDN---YGKKKK--R-KR-EK--\n",
      "\n",
      "Organism #81\n",
      "Fitness Score: -1038.0\n",
      "GK-G-D--P---KKPRGKM--SSY-AF--FVQTS-R------EEH-KKKH-PDA-SVN-F-SEFS-KKCSERWKTMSAKEKGKFEDMAKADKAR-YE-R--E-----------------------------------------MKTYIP-----P-K---G---------E-\n",
      "-MQ--DRV---K-------R-P-MN---AF-------IVW-SR---DQ--RR-KMA----L-ENPR--MRN---SE-----I-S-K----QL-G-YQ--------W-KML-T-E-A--EK-WPF-F-QEAQKL-QAM------H---R-EKYP-NYKYRP--RRKAKMLPK-\n",
      "MKK-L-K-KHPD---F--PK---KPLTP-YF----RF-FM-EKR-AK-YA-K--LH-----PE-M-SNLD--LTKILS-K--K-Y--------KE-L-PE-KKKMK--Y-IQD-FQ---REKQ-EFE-R-NL--A-RFREDH-P-----D---LIQ-NAK-------K----\n",
      "------MH--I-K--KP---L---N------AFML-YMK-EM---R-A-NV--VAE--STL-KE-S-A--------------A--IN--Q-IL-GR-R--WH-AL-SR---EEQAKYYEL-AR--K---E-RQL-HM---Q-L-Y-PGWS---ARDNYG--K-KKKRKR-EK\n",
      "\n",
      "Organism #82\n",
      "Fitness Score: -1065.0\n",
      "GK-G-D---P---KKPRGKM-SSY-AF--FVQTS-R-----EEH-KKKH-PDA-SVN-F-SEFS-KKCSERWKTMSAKEKGKFEDMAKADKAR-YE-R--E-----------------------------------------MKTYIP-----P-K---G---------E-\n",
      "-MQ--DRV---K-------RP-MN---AF-------IVWSR---DQ--RR-KMA----L-EN-PR--MRN---SE-----I-S-K----QL-G-YQ--------W-KML-T-E-A--EK-WPF-F-QEAQKL-QAM------H---R-EKYP-NYKYRP--RRKAKMLPK-\n",
      "MKK-L-K-KHPD---F--PK--KPLTP-YF----RF-FMEKR-AK-YA-K--LH-----P-E-M-SNLD--LTKILS-K--K-Y--------KE-L-PE-KKKMK--Y-IQD-FQ---REKQ-EFE-R-NL--A-RFREDH-P-----D---LIQ-NAK-------K----\n",
      "------MH--I-K---KP--L---N------AFML-YMKEM---R-A-NV--VAE--STL-KE-S-A--------------A--IN--Q-IL-GR-R--WH-AL-SR---EEQAKYYEL-AR--K---E-RQL-HM---Q-L-Y-PGWS---ARDNYG--K-KKKRKR-EK\n",
      "\n",
      "Organism #83\n",
      "Fitness Score: -905.0\n",
      "GKGDP-KK-PR-GKMSSYAF---FVQ-TSR-------E------------------------EHKKKHPDASVNFSEFSKKCSERWKTMSA-KEK-GKF-E--DM-AKA-DKAR--YER-E-MKTY-IP---P-K-G------E----\n",
      "---MQ-DR-V--KRPMN-----AFIVW---S-RDQ-R-RKM---ALE-N-PR--M--R-NSE-------I---S--K--QLGY-Q--W-K-MLT-E--AEKWPFFQEA-Q-KL-QA-M--HREKYPNYKY-R----P-RRKA-KMLPK\n",
      "-MKKLKK-HP-DFP--KKPLTP-Y---F-----RFFMEK--RAK-YAKLHPEMSNLDLTK-I---LS-K-------------KYKEL-P-EK-K-KMK-Y-IQ---DFQRE-KQEF-E-R---N-L-ARFRE-D-H-PDL-IQ-NAKK\n",
      "M----H--IKKPL--NA-F-M-LYM-KEMRANVV-A----E-S--T---L-KESA--AIN--Q-ILGRRWHALS---REE-QA-KY--YE--LA--R-K-ERQ-L----HM-QLYP-G-WSA-RD----N-YGKK---KKRKRE--K-\n",
      "\n",
      "Organism #84\n",
      "Fitness Score: -996.0\n",
      "--G------KGDP----K--KP--RGKM---S-S-Y-A-F----F--VQTS-----R-----EEHKK-KH--PD-AS-V-NFSEF--SKK--CSER-WKTM-SAKEKGKF--ED-MAK-A-DKARYERE--MKT-YIP---PK---G---------E-\n",
      "-MQ-DRV---KRPMN----AF-IVW-S-RDQR-RKM-A-LE-N--PR-M-R-NSE-----I--S-K--Q-LGY--Q----W-K-MLT-E--AEKWPF-FQEAQ-KLQA-M-H----------------------REKYPNYKYR-P-R-RKA-KMLPK\n",
      "MKKLKKHP-DF-P--KKPLTP-Y---F---RFFME-K-RA-K-Y-AKLHP-EMS-NL-DLTK-I--L-S--K---------------K-Y-KEL--PE-KK--KMK-YIQ----DFQRE-KQEFE-R--N-L-ARFRE---D-H-P-D-L-IQ-NAKK\n",
      "M--H---IKK-P-L--NAFM--LYMKEMRA-N-VV-A-----E---S----T-LKE-S--A--AIN-QILGRR-WH-ALS--RE-EQA-KY--------YE-LA-R-K-ER-QL---HM--QL-YP-G-WSA--RD----N-YGKK--KKR-KRE--K\n",
      "\n",
      "Organism #85\n",
      "Fitness Score: -874.0\n",
      "GKGDP-KK-PRGKMSSYAF---FVQTSR-------E----------------------EHKKKHPDASVNFSEFS-KKCSERWK-TMSA-KEKGKF-E--DMAKA-DKAR--YER-E-MKTYIP--P-K-G--------E--\n",
      "---MQ-DRV----KRPMN-----AF--IVWS-RDQRR-K-M--ALE-N-PRM-R-NSE--I-SK----Q-L--GYQ-----WK-ML-T-E--A-EK--W-PFFQEAQ-K-LQ--AMHREKY--PNYKYR-PRRKAK-M-LPK\n",
      "MKKLKKHP-DF-P-KKPLT-PY--F--RFFMEK--RAK-YAKLHPE-M-SNLDLTKI--LS-K----------------KYKEL--PE-KK---KMK-Y-IQ--DFQREKQEFER-N-L-ARFRE--D-H-PDL-IQ-NAKK\n",
      "M----H--IKKPL--NAF-M-LYMKEMRANVV-A----E-S--T--L-KESA--AIN-QILGRRWHALS---RE-E-QA-KY---YE--LA--R-K-ERQ-L----HM-QLYP-G-WSA-RD----N-YGKK-KKRKRE--K\n",
      "\n",
      "Organism #86\n",
      "Fitness Score: -874.0\n",
      "--G----KGDP----KKP-RGKM-SS-Y-A-F----F-VQTS------R-----EEHKK-KHPD-AS-VNFSEF--S-KK-CSER-WKTM--SAKEKGKFE-D-MAK-A-DKARYER-E--MKTYIP---PK---G----E-\n",
      "---MQ-DRV---KRPMN----AF-IVW-S-RDQR-RKM--A-LE-N--PR-M-R--NSE-----I--S-K--Q-LGY--Q----W-K-MLT---E--AEKW-PF-FQEAQ-KLQA-MHREKYPNYKYR-P-R-RKA-KMLPK\n",
      "MKKLKKHP-DF-P--KKPLTP-Y--F---RFFMEK--RAK-YAKLHPEMSNLDLTK-I-LS-K--------------KYKEL--PEKK---KMK-YIQ---DFQRE-KQEFER--N-L-ARFRE--D-H-PD-L-IQ-NAKK\n",
      "M----H---IKKP-L--NAFM-LYMKEMRANVV-A----E-S----T-LKESA--AINQILGRR-WHALS-RE-EQA-KY-----YE-LA--R-K-ER-Q-L---HM--QLYP-G-WSA-RD---N-YGKK-KKR-KRE--K\n",
      "\n",
      "Organism #87\n",
      "Fitness Score: -980.0\n",
      "GK-G-D--P---KKPRGKM--SSY-AF-FVQTS-R------EEH-KKKH-PDA-SVN-F-SEFS-KKCSERWKTMSAKEKGKFEDMAKADKAR-YE-R--E-------------------------------------MKTYIP-----P-K---G--------E\n",
      "-MQ--DRV---K-------R-P-MN--AF-------IVW-SR---DQ--RR-KMA----L-ENPR--MRN---SE-----I-S-K----QL-G-YQ--------WKML-T-EA--EK-WPF-F-QEAQKL-QAM----H---R-EKYP-NYKYRP-RRKAKMLPK\n",
      "-MKKL-KK-HPD--F--PKKPLTP-YF-RF-FM--EKRAK-YAK---LH----PE-MSNL---D--LTKILS-----KK---Y-------KE-L-PEK-KKMK-Y--IQDFQREKQ-EFE-R-N--L-A-R-FREDH-P-----D-LIQ-N--AK--------K-\n",
      "---------M---HI-K-KP---LN---AF-MLYM-KEMRA--NV-VAE--STLKE--S-------AAINQIL--GR---RWHAL-S-R-EEQ-AKYYE---LAR-K---E---R--Q---LH-M--Q-L--Y---PG-WSARDN---YGKK-KK--R-KR-EK-\n",
      "\n",
      "Organism #88\n",
      "Fitness Score: -1010.0\n",
      "--G----KGD--P-----K-KP-RGKM-SS-Y-A-F---F-VQTS-------R-----EEHKK-KHPDA-S-VNFS--EF--S--KK--CSER-WKTM---SAKEKGKFE-D-MAK--A-DKARYER-E-----MKTYIP---PK---G----E-\n",
      "-MQ--DR-V---K--R-P-MN-AF-----IVW-SR-DQRRKMA--LEN-PR--MRNSE---I----S-K--Q-LGYQ---W-KML-T-----E-A--EK----WPF--F-QEAQ-K-L-QA-M----H-R--EKYPNYKY-R--PRRKAKMLP-K\n",
      "MKKLKK--H-PDF-PKK-P------L-TPYFRF-F--MEK-RAKY---A--K-LH---PEMS--NL---DLT-KILS--KKYK--ELP---EKK-KMKYIQ-D--FQR-EKQEF-ERN-LA--RFRE---DH-PDL-IQ---N------AK--K-\n",
      "-------M-HIK-K-P---LN----AF-MLYM-KEMR-A-NV--VAE-STLKE--S------AAIN-QILG-R---RWHALSREEQ-AKYYE--LAR--K---E--R-Q--LH-M--Q-L--Y---P-GWSARDN---YGKKKK--R-KR-EK--\n",
      "\n",
      "Organism #89\n",
      "Fitness Score: -1027.0\n",
      "GKGDP-K-K-PRGKM-S-SYAF-FVQTSR------E---------------------EHKKKHPDASVNFSE-FS-KK-C-SE-RWK-TMSA-KEKGK-FE--DMAKA-DKAR-YE-R-E-M-KT-YIP-----P-K-G---------E----\n",
      "-----MQ-DRV----KRPMN---AF--IVWSRDQRR-K-M---ALE--N-PRM-R-NSE---I--SK-----Q--L--G-YQ-----WK-ML-T-E--AEK--WPFF-QEA-Q-K-L-Q----AMHREKY--PNYKYR-P-RRKAK-M--LPK\n",
      "M--KK-L-KK--HPDF-PKK--PLTPYF--R---FF-ME-KRA--K-Y-A-K-LHP-----E-M--SN-L-D---LTK-IL-S-KKY-KE-LP-E---KK-K---MKY--IQDFQREKQE-FERNLAR--FR-ED-H--P--DLIQN-AK-K-\n",
      "-------M--HIKK-P---LN---AFMLYM-KEMR-A--NV-VAESTLKE--S------AAIN--QILG-R---RW-HALSREEQ-AKYYE---LAR-K---E-R-Q--LH-M--Q-L--Y---P-GWSARDN---YGKKKK--R-KR-EK--\n",
      "\n",
      "Organism #90\n",
      "Fitness Score: -996.0\n",
      "--G------KGDP----K--KP--RGKM---S-S-Y-A-F----F--VQTS-----R-----EEHKK-KH--PD-AS-V-NFSEF--SKK--CSER-WKTM-SAKEKGKF--ED-MAK-A-DKARYERE--MKT-YIP---PK---G---------E-\n",
      "-MQ-DRV---KRPMN----AF-IVW-S-RDQR-RKM-A-LE-N--PR-M-R-NSE-----I--S-K--Q-LGY--Q----W-K-MLT-E--AEKWPF-FQEAQ-KLQA-M-H----------------------REKYPNYKYR-P-R-RKA-KMLPK\n",
      "MKKLKKHP-DF-P--KKPLTP-Y---F---RFFME-K-RA-K-Y-AKLHP-EMS-NL-DLTK-I--L-S--K---------------K-Y-KEL--PE-KK--KMK-YIQ----DFQRE-KQEFE-R--N-L-ARFRE---D-H-P-D-L-IQ-NAKK\n",
      "M--H---IKK-P-L--NAFM--LYMKEMRA-N-VV-A-----E---S----T-LKE-S--A--AIN-QILGRR-WH-ALS--RE-EQA-KY--------YE-LA-R-K-ER-QL---HM--QL-YP-G-WSA--RD----N-YGKK--KKR-KRE--K\n",
      "\n",
      "Organism #91\n",
      "Fitness Score: -1086.0\n",
      "-G---KGDP-------K--KP-RGKMSS-Y---AF--FVQTS---R-----EE-HKKK--HPD--AS--VN----FSEF---SKKC-SER-W--KT-M-SA--KEKGKFED-MAK-AD-KAR-YER--E-M--KTYIP---PK------G-----E-\n",
      "-MQ--DR-V----K--R-P-MN-AF-----IVW-SR-DQR-RKMA--LEN-PR--MRNSE---I----S-K--Q-LGYQ---W-KML-T-----E-A--EK----WPF--F-QEAQ-K-L-QA-M----H-R--EKYPNYKY-R--PRRKAKMLP-K\n",
      "M--KK-L-KK--HPDF-PKK--P-LTPYF--R----FF-ME-KRA---K-Y-A-K-LHP-----E-M--SN-L-D---LTK-IL-S-KKY-KE-LP-E---KK-K----MKY--IQDFQREKQE-FERNLAR--FR-ED-H--P--DLIQN-AK-K-\n",
      "-------M--HIK-K-P---LN----AF-MLYM-KEMR-A--NV--VAE-STLKE--S------AAIN-QILG-R---RWHALSREEQ-AKYYE--LAR--K---E--R-Q--LH-M--Q-L--Y---P-GWSARDN---YGKKKK--R-KR-EK--\n",
      "\n",
      "Organism #92\n",
      "Fitness Score: -1007.0\n",
      "GK-G-D--P---KKPRGKM--SSY-AF--FVQTS-R------EEHKKKH-PDA-SVNF-SEFS-KKCSERWKTMSAKEKGKFEDMAKADKAR-YE-R--E----------------------------------------MKTYIP-----P-K---G---------E-\n",
      "-MQ--DRV---K-------R-P-MN---AF-------IVW-SR--DQ--RR-KMA---L-ENPR--MRN---SE-----I-S-K----QL-G-YQ--------W-KML-T-E-A-EK-WPF-F-QEAQKL-QAM------H---R-EKYP-NYKYRP--RRKAKMLPK-\n",
      "---MK-KLKK---H--PDF-P-K-KP--------L-TPYFRF--FME-K--R-AKY--A---K-LH-----PEMS--NL----DLTKILS--KKYKELP--EKKKMK-YIQ-D--FQR----EKQEF-E-RNLA---RFRE---DH--PDL--IQ---N----AK---K\n",
      "----MH---IKKP-----L-N------AFMLYMKEMR-A--------------N--VVAE---ST-L-KE--S-A-----------A--I-N-QI-LGR-R-WH--AL-SREEQAKYYEL-A--R---K--E--RQLHM--QLY-PGWS-ARDNY-GKK--KKRKR-EK\n",
      "\n",
      "Organism #93\n",
      "Fitness Score: -974.0\n",
      "GKGDP-KK-PRG-KM--SSYAF---FVQT----SR------E----------------EHKK--KHPDA-SVNFSEFS-KKCSERW-K-TM-SA--K-E-KGKF--E---DMA-KA-DKAR--YER-E-MKTYIP--P--KG----------E-\n",
      "--MQ-DR-V----K-R-P-MN-AF----IVW-SR-DQR-RKMA-LEN-PRMRNSE--I----S-K--Q-LGYQ---W-KML-T------E-A-EK---WP-F-F--QEAQ-K-L-QA-M-----H-R---EKYPNYKY-R--PRRKA-KMLP-K\n",
      "MKKL-KK-HPD-F--PK-KPLTP-YF--RF-FM-EKRAK-Y--AK-LH---PE-MSNL--D--LTKIL-S-KK-Y------KE-L-PEK-KKMK-Y-IQDFQ-REKQ-EFE-R-NL-A-R-FREDH-P-----D-LIQ-N--AK------K---\n",
      "M---------H--IKKP--L---N-AFMLYMKEM-RAN--VVA---E---S---TL-KESA--AINQILGRR---WHA--LS---REEQA-KY----YE-LAR---K-ER-Q-L---HMQLYPG-WS-A--RD--N-YGKKK-K-R-KRE---K\n",
      "\n",
      "Organism #94\n",
      "Fitness Score: -1087.0\n",
      "-G---KGDP-------K--KP-RGKMSS-Y---AF--FVQTS---R-----EE-HKKK--HPD--AS--VN---FSEF---SKKC-SER-W--KT-M-SA--KEKGKFED-MAK-AD-KAR-YER--E-M--KTYIP---PK------G-----E-\n",
      "-MQ--DR-V----K--R-P-MN-AF-----IVW-SR-DQR-RKMA--LEN-PR--MRNSE---I----S-K--Q-LGYQ---W-KML-T-----E-A-EK----WPF--F-QEAQ-K-L-QA-M----H-R--EKYPNYKY-R--PRRKAKMLP-K\n",
      "M--KK-L-KK--HPDF-PKK--P-LTPYF--R----FF-ME-KRA---K-Y-A-K-LHP-----E-M--SN-LD---LTK-IL-S-KKY-KE-LP-E---KK-K----MKY--IQDFQREKQE-FERNLAR--FR-ED-H--P--DLIQN-AK-K-\n",
      "-------M--HIK-K-P---LN----AF-MLYM-KEMR-A--NV--VAE-STLKE--S------AAIN-QILGR---RWHALSREEQ-AKYYE--LAR--K---E--R-Q--LH-M--Q-L--Y---P-GWSARDN---YGKKKK--R-KR-EK--\n",
      "\n",
      "Organism #95\n",
      "Fitness Score: -940.0\n",
      "---G-KGDP------KKP-RGKMSS--Y-A-F-----F-VQTS--R--------EEH-KKKHPD-ASV-N--FS-EF---SKKC-SE-R-W-KT-M--SA-KE-KGKFED-M-AK-AD-KARYER-EMKTYI-P---PK-------G-------E-\n",
      "MQD--RVK-RP-MN-A-F--IVWSR-DQ--RRKM-AL-ENPR-MRNS--E-IS-KQ-L-GYQWKMLT--EAE------KWP-FF-QE-AQ---K---LQ-A-M--HRE-KY-P-------N-Y------------KYR--P---RRK--A-KMLPK\n",
      "-MKKLKK--H--PDF-PK-KP--------L-TPYFRF-F-ME-K--RAKY--A---K-LH---PEMS--NL---DLTKILS--KKYKELP--EKKKMK-YIQ-D--FQR--EKQEF-E-RNLA---RFRE--DH--PDL--IQ---N----AK--K\n",
      "----MH--IKKP----L-N------AFMLYMKEMR-A-------------NV-VAE--ST-L-KE-S-A----------A--I-N-QILGRR-WH-AL-SREEQ-AKYYEL-A-R---K-E--RQLHM--QLY-PGWS-ARDNY-GKKKKRKR-EK\n",
      "\n",
      "Organism #96\n",
      "Fitness Score: -974.0\n",
      "GKGDP-KK-PRG-KM--SSYAF---FVQT----SR------E----------------EHKK--KHPDA-SVNFSEFS-KKCSERW-K-TM-SA--K-E-KGKF--E---DMA-KA-DKAR--YER-E-MKTYIP--P--KG----------E-\n",
      "--MQ-DR-V----K-R-P-MN-AF----IVW-SR-DQR-RKMA-LEN-PRMRNSE--I----S-K--Q-LGYQ---W-KML-T------E-A-EK---WP-F-F--QEAQ-K-L-QA-M-----H-R---EKYPNYKY-R--PRRKA-KMLP-K\n",
      "MKKL-KK-HPD-F--PK-KPLTP-YF--RF-FM-EKRAK-Y--AK-LH---PE-MSNL--D--LTKIL-S-KK-Y------KE-L-PEK-KKMK-Y-IQDFQ-REKQ-EFE-R-NL-A-R-FREDH-P-----D-LIQ-N--AK------K---\n",
      "M---------H--IKKP--L---N-AFMLYMKEM-RAN--VVA---E---S---TL-KESA--AINQILGRR---WHA--LS---REEQA-KY----YE-LAR---K-ER-Q-L---HMQLYPG-WS-A--RD--N-YGKKK-K-R-KRE---K\n",
      "\n",
      "Organism #97\n",
      "Fitness Score: -974.0\n",
      "GKGDP-KK-PRG-KM--SSYAF---FVQT----SR------E----------------EHKK--KHPDA-SVNFSEFS-KKCSERW-K-TM-SA--K-E-KGKF--E---DMA-KA-DKAR--YER-E-MKTYIP--P--KG----------E-\n",
      "--MQ-DR-V----K-R-P-MN-AF----IVW-SR-DQR-RKMA-LEN-PRMRNSE--I----S-K--Q-LGYQ---W-KML-T------E-A-EK---WP-F-F--QEAQ-K-L-QA-M-----H-R---EKYPNYKY-R--PRRKA-KMLP-K\n",
      "MKKL-KK-HPD-F--PK-KPLTP-YF--RF-FM-EKRAK-Y--AK-LH---PE-MSNL--D--LTKIL-S-KK-Y------KE-L-PEK-KKMK-Y-IQDFQ-REKQ-EFE-R-NL-A-R-FREDH-P-----D-LIQ-N--AK------K---\n",
      "M---------H--IKKP--L---N-AFMLYMKEM-RAN--VVA---E---S---TL-KESA--AINQILGRR---WHA--LS---REEQA-KY----YE-LAR---K-ER-Q-L---HMQLYPG-WS-A--RD--N-YGKKK-K-R-KRE---K\n",
      "\n",
      "Organism #98\n",
      "Fitness Score: -1053.0\n",
      "-G--KG-D-P-----K--KPRGKMSS-Y---AF-FVQTS--R------EEHK-KKHPDAS-V-NFS-EF--SKK-CSER--W----KT-MSA-KEK--G-KF--EDMAK-AD--KAR-YE-R--E-M--KTYI-P--PK------G-----E-\n",
      "-MQ--DR-V---K--R-P-MN-AF-----IVW-SR-DQRRKMA--LEN-PR--MRNSE-I----S-K--Q-LGYQ---W-KML-T-----E-A--EK----WPF--F-QEAQ-K-L-QA-M----H-R--EKYPNYKY-R--PRRKAKMLP-K\n",
      "M-KK-L-KK--HPDF-PKK--PLTPYF--R---FF---ME-K-RA--K-Y-A-K-LHP---E-M-SN-L-D--LTK-IL-S-KK-Y-KE-LPE---KK-K----MKY---IQDFQREKQE-FERNLAR--FR-ED-H--P--DLIQN-AK-K-\n",
      "-------M-HIK-K-P---LN----AF-MLYM-KEMR-A-NV--VAE-STLKE--S----AAIN-QILG-R---RWHALSREEQ-AKYYE--LAR--K---E--R-Q--LH-M--Q-L--Y---P-GWSARDN---YGKKKK--R-KR-EK--\n",
      "\n",
      "Organism #99\n",
      "Fitness Score: -874.0\n",
      "GKGDP-KK-PRGKMSSYAF---FVQTSR-------E----------------------EHKKKHPDASVNFSEFS-KKCSERWK-TMSA-KEKGKF-E--DMAKA-DKAR--YER-E-MKTYIP--P-K-G--------E--\n",
      "---MQ-DRV----KRPMN-----AF--IVWS-RDQRR-K-M--ALE-N-PRM-R-NSE--I-SK----Q-L--GYQ-----WK-ML-T-E--A-EK--W-PFFQEAQ-K-LQ--AMHREKY--PNYKYR-PRRKAK-M-LPK\n",
      "MKKLKKHP-DF-P-KKPLT-PY--F--RFFMEK--RAK-YAKLHPE-M-SNLDLTKI--LS-K----------------KYKEL--PE-KK---KMK-Y-IQ--DFQREKQEFER-N-L-ARFRE--D-H-PDL-IQ-NAKK\n",
      "M----H--IKKPL--NAF-M-LYMKEMRANVV-A----E-S--T--L-KESA--AIN-QILGRRWHALS---RE-E-QA-KY---YE--LA--R-K-ERQ-L----HM-QLYP-G-WSA-RD----N-YGKK-KKRKRE--K\n",
      "\n",
      "Organism #100\n",
      "Fitness Score: -1027.0\n",
      "GKGDP-K-K-PRGKM-S-SYAF-FVQTSR------E---------------------EHKKKHPDASVNFSE-FS-KK-C-SE-RWK-TMSA-KEKGK-FE--DMAKA-DKAR-YE-R-E-M-KT-YIP-----P-K-G---------E----\n",
      "-----MQ-DRV----KRPMN---AF--IVWSRDQRR-K-M---ALE--N-PRM-R-NSE---I--SK-----Q--L--G-YQ-----WK-ML-T-E--AEK--WPFF-QEA-Q-K-L-Q----AMHREKY--PNYKYR-P-RRKAK-M--LPK\n",
      "M--KK-L-KK--HPDF-PKK--PLTPYF--R---FF-ME-KRA--K-Y-A-K-LHP-----E-M--SN-L-D---LTK-IL-S-KKY-KE-LP-E---KK-K---MKY--IQDFQREKQE-FERNLAR--FR-ED-H--P--DLIQN-AK-K-\n",
      "-------M--HIKK-P---LN---AFMLYM-KEMR-A--NV-VAESTLKE--S------AAIN--QILG-R---RW-HALSREEQ-AKYYE---LAR-K---E-R-Q--LH-M--Q-L--Y---P-GWSARDN---YGKKKK--R-KR-EK--\n",
      "\n",
      "2\n",
      "-874.0\n",
      "101\n",
      "\n",
      "Best solution:\n",
      "GKGDPKKPRGK-MSS--YAFFVQTSREEHKKKH-PD-ASVNFSEF-SKK-CS-ERWKTMS-A-KEKGKF-EDM--AKADKARYE-R-EM-KTYIPP-KGE\n",
      "MQDRVKRPMNAFIVWSRDQRRKM-ALENPRMRNSE-ISKQ-LGYQWKMLT-EAE--KWPFFQE-AQK-LQAMHREKYP------NY-KYRPRRKAKMLPK\n",
      "MKKLKK-HPDFPKKPLTPYF-RF-FMEKR-AKYAK-LHP-EMSNLDLTKILS-KKYKELPEK-K-KMKYIQDFQREKQEFERNLARFREDHPDLIQNAKK\n",
      "M--HIKKPLNAFMLYMKEMRANVVA-ES-TLKESAAIN-QILGRRWHALSRE-EQAK--YY-ELARKERQ-LHMQLYPGWSARDNYGK-KKKRKRE---K\n"
     ]
    }
   ],
   "source": [
    "ga = GA_MSA(population_size=100, generations=800, min_generations=100, mutation_rate=0.05, gap_open_score=-2,gap_extend_score=-1)\n",
    "best_val, best_alignment = ga.run(sequences=sequences)"
   ]
  },
  {
   "cell_type": "code",
   "execution_count": 6,
   "metadata": {},
   "outputs": [],
   "source": [
    "from Bio import SeqIO\n",
    "from Bio.Seq import Seq\n",
    "from Bio.SeqRecord import SeqRecord\n",
    "from Bio.Alphabet import IUPAC\n",
    "\n",
    "sequence_records = list()\n",
    "for i, aln in enumerate(best_alignment):\n",
    "    sequence_records.append(SeqRecord(Seq(aln,\n",
    "                       IUPAC.protein),\n",
    "                   id=\"YP_025292.\" + str(i)))\n",
    "with open(\"example.fasta\", \"w\") as output_handle:\n",
    "    SeqIO.write(sequence_records, output_handle, \"fasta\")"
   ]
  },
  {
   "cell_type": "code",
   "execution_count": 12,
   "metadata": {},
   "outputs": [
    {
     "data": {
      "text/plain": [
       "[SeqRecord(seq=Seq('GKGDP---KKPRGKMSSYAF--FVQTSR-----EEHKKKHPDASVNFSEF-SKK...-E-', IUPACProtein()), id='YP_025292.0', name='<unknown name>', description='<unknown description>', dbxrefs=[]),\n",
       " SeqRecord(seq=Seq('MQD-RVKR-PM-NAF----IV-WSR---DQRRKMA-LENPRMRN---SEI-SKQ...LPK', IUPACProtein()), id='YP_025292.1', name='<unknown name>', description='<unknown description>', dbxrefs=[]),\n",
       " SeqRecord(seq=Seq('MKKLKKHPDFPKKP----LTPYFRFFME--K-RAKYAKLHPEMS-NL-DLTKIL...K-K', IUPACProtein()), id='YP_025292.2', name='<unknown name>', description='<unknown description>', dbxrefs=[]),\n",
       " SeqRecord(seq=Seq('-----MHIKKP---LN--AFMLYMKEMRANVVAESTLKE--SAAIN--QILGR-...REK', IUPACProtein()), id='YP_025292.3', name='<unknown name>', description='<unknown description>', dbxrefs=[])]"
      ]
     },
     "execution_count": 12,
     "metadata": {},
     "output_type": "execute_result"
    }
   ],
   "source": [
    "sequence_records"
   ]
  },
  {
   "cell_type": "code",
   "execution_count": 14,
   "metadata": {},
   "outputs": [
    {
     "data": {
      "text/plain": [
       "-491.0"
      ]
     },
     "execution_count": 14,
     "metadata": {},
     "output_type": "execute_result"
    }
   ],
   "source": [
    "best_val"
   ]
  },
  {
   "cell_type": "code",
   "execution_count": null,
   "metadata": {},
   "outputs": [],
   "source": []
  }
 ],
 "metadata": {
  "@webio": {
   "lastCommId": null,
   "lastKernelId": null
  },
  "kernelspec": {
   "display_name": "Python 3.8.1 64-bit",
   "language": "python",
   "name": "python_defaultSpec_1599537101626"
  },
  "language_info": {
   "codemirror_mode": {
    "name": "ipython",
    "version": 3
   },
   "file_extension": ".py",
   "mimetype": "text/x-python",
   "name": "python",
   "nbconvert_exporter": "python",
   "pygments_lexer": "ipython3",
   "version": "3.8.1-final"
  }
 },
 "nbformat": 4,
 "nbformat_minor": 4
}
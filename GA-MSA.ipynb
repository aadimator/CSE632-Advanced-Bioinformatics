{
 "cells": [
  {
   "cell_type": "markdown",
   "metadata": {},
   "source": [
    "# Multiple Sequence Alignment using Genetic Algorithms"
   ]
  },
  {
   "cell_type": "code",
   "execution_count": 1,
   "metadata": {},
   "outputs": [],
   "source": [
    "import pandas as pd\n",
    "import numpy as np \n",
    "from random import randint, uniform\n",
    "from dataclasses import dataclass\n",
    "\n",
    "from Bio.Align import PairwiseAligner\n",
    "from Bio.SubsMat.MatrixInfo import blosum62\n",
    "from utils import Utils\n",
    "from ga import GA_MSA\n",
    "from vose_sampler import VoseAlias\n",
    "from Bio.pairwise2 import align"
   ]
  },
  {
   "cell_type": "code",
   "execution_count": 2,
   "metadata": {},
   "outputs": [
    {
     "output_type": "execute_result",
     "data": {
      "text/plain": "[1, 2, 3, 4, 5]"
     },
     "metadata": {},
     "execution_count": 2
    }
   ],
   "source": [
    "Utils.get_interval_gaps(\"A-----BC--\", 3)"
   ]
  },
  {
   "cell_type": "code",
   "execution_count": 3,
   "metadata": {},
   "outputs": [],
   "source": [
    "seq1 = \"CARTABLANCHE\"\n",
    "seq2 = \"CARTE\""
   ]
  },
  {
   "cell_type": "code",
   "execution_count": 4,
   "metadata": {},
   "outputs": [],
   "source": [
    "sequences = [\"ACTGCAACG\", \"ATCTGCTAG\", \"ACCCGAGACTG\", \"CGTAAACGT\"]"
   ]
  },
  {
   "cell_type": "code",
   "execution_count": 5,
   "metadata": {},
   "outputs": [
    {
     "output_type": "execute_result",
     "data": {
      "text/plain": "array([['ACTGCAACG', 'A-CTGCAACG', 'ACTGC-A-AC-G', 'ACTG-CAACG-'],\n       ['ATCTGCTA-G', 'ATCTGCTAG', 'ATCTG---CTAG', 'ATCTGCTA---G-'],\n       ['ACC-CGAGACTG', 'ACCCGAGACT-G', 'ACCCGAGACTG', 'ACCCG-AGACTG-'],\n       ['-C-GTAAACGT', '--C-G-TAAACGT', '---CGTAAAC-GT', 'CGTAAACGT']],\n      dtype=object)"
     },
     "metadata": {},
     "execution_count": 5
    }
   ],
   "source": [
    "GA_MSA.compute_pairwise_alignments(sequences)"
   ]
  },
  {
   "cell_type": "code",
   "execution_count": 6,
   "metadata": {},
   "outputs": [
    {
     "output_type": "stream",
     "name": "stdout",
     "text": "Input matrix:\nACTGCAACG\nATCTGCTAG\nACCCGAGACTG\nCGTAAACGT\n\nPopulation 1:\nA-CTGCAACG\nATCTGCTAG\nACC-CGAGACTG\nCGTAAACGT\n\nPopulation 2:\nACTGC-A-AC-G\nATCTGCTAG\nACCCGAGACT-G\n--C-G-TAAACGT\n\nPopulation 3:\nACTG-CAACG-\nATCTGCTA-G\nACCCG-AGACTG-\n---CGTAAAC-GT\n\nPopulation 4:\nACTG-CAACG-\nATCTGCTA-G\nACCCGAGACT-G\n-C-GTAAACGT\n\nPopulation 5:\nACTGC-A-AC-G\nATCTGCTA---G-\nACCCGAGACT-G\n--C-G-TAAACGT\n\nPopulation 6:\nACTGCAACG\nATCTGCTA---G-\nACC-CGAGACTG\nCGTAAACGT\n\nPopulation 7:\nACTGCAACG\nATCTG---CTAG\nACCCG-AGACTG-\n---CGTAAAC-GT\n\nPopulation 8:\nACTG-CAACG-\nATCTGCTA---G-\nACC-CGAGACTG\n-C-GTAAACGT\n\nPopulation 9:\nACTG-CAACG-\nATCTGCTAG\nACCCGAGACT-G\nCGTAAACGT\n\nPopulation 10:\nACTGC-A-AC-G\nATCTGCTAG\nACCCGAGACT-G\n-C-GTAAACGT\n\n\nPopulation Fitness Score: 649.0999999999999\n\nOrganism #1\nFitness Score: 35.6\n--A-CTGCAACG\nA-TCTG-CTAG-\nACC-CGAGACTG\n-CGTAAACG-T-\n\nOrganism #2\nFitness Score: 46.8\nACT-GC-A-AC-G\n-AT-CTG--CTAG\nACCC-GAGACT-G\n--C-G-TAAACGT\n\nOrganism #3\nFitness Score: 101.3\nACTG--CAACG--\nATC-TGCTA--G-\nACCCG-AGACTG-\n---CGTAAAC-GT\n\nOrganism #4\nFitness Score: 105.6\nACT-G-CAACG-\nATCTGCTA---G\nACCCGAGACT-G\n--C-GTAAACGT\n\nOrganism #5\nFitness Score: 59.0\nACTGC-A-AC--G\nATCTGCTA---G-\nACCCGAGAC-T-G\n--C-G-TAAACGT\n\nOrganism #6\nFitness Score: 35.4\nACTGCA-A-C--G\nATCTGCTA---G-\nA-CC-CGAGACTG\nCGTA-A---ACGT\n\nOrganism #7\nFitness Score: 104.4\n-ACT-GCAA-C-G\nATCTG----CTAG\nACCCG-AGACTG-\n---CGTAAAC-GT\n\nOrganism #8\nFitness Score: 49.9\nACTG--CAACG--\nATCTGCTA---G-\nACC-CG-AGACTG\n-C-GTAA-ACGT-\n\nOrganism #9\nFitness Score: 34.7\nACTG-CAACG--\nA-TCTGCT-AG-\nACCCGAGACT-G\nC--GT-AAACGT\n\nOrganism #10\nFitness Score: 76.4\nACTGC-A-AC-G\nATC--TG-CTAG\nACCCGAGACT-G\n-C-GTA-AACGT\n\n3\n105.6\nGap Open Mutation\n---CGTAAAC-GT\n5\n3\n---\n---CG---TAAAC-GT\nGap Reduce Mutation\nACTG--CAACG--\nACTG-CAACG--\nGap Extend Mutation\nATCTGCTA---G\nATCTGCTA----G\nGap Extend Mutation\nACTG-CAACG--\nACTG-CAACG---\nGap Open Mutation\nA-CC-CGAGACTG\n0\n3\n-\n-A-CC-CGAGACTG\n\nPopulation Fitness Score: 547.0\n\nOrganism #1\nFitness Score: 87.4\nACT-G-CAACG--\nATCTGCTA----G\nACCCGAGACT--G\n--C-GTAAA-CGT\n\nOrganism #2\nFitness Score: 61.1\nACTGC-AAC-G---\nATC-TG-CTA--G-\nACCCG-AG-ACTG-\n--CG--TAAAC-GT\n\nOrganism #3\nFitness Score: 25.9\n-ACT-G-CAAC-G---\nAT--C-TGCTA--G--\nACCCG--AGACT--G-\n---CG---TAAAC-GT\n\nOrganism #4\nFitness Score: 35.6\n--A-CTGCAACG\nA-TCTG-CTAG-\nACC-CGAGACTG\n-CGTAAACG-T-\n\nOrganism #5\nFitness Score: 67.0\nACTGC-A--AC-G\nATCTGCTA---G-\nACCCGAGAC-T-G\n--C-G-TAAACGT\n\nOrganism #6\nFitness Score: 119.2\nACT-GC-A-AC-G\nATCTGCTA---G-\nACCCGAGAC-T-G\n--C-G-TAAACGT\n\nOrganism #7\nFitness Score: 60.1\nACT-G--CAACG-\nATCTGCTA----G\nACCCGAG-ACT-G\n-C-GTAA-ACGT-\n\nOrganism #8\nFitness Score: 65.1\nACT--G-CAACG-\nATCTGCTA----G\nACCCGAG-ACT-G\n--C-GTAAACGT-\n\nOrganism #9\nFitness Score: 27.0\nACT-G--CAAC-G---\nATC-T-G-C-TA--G-\nACC-CG-AGACT-G--\n---CG---TAAAC-GT\n\nOrganism #10\nFitness Score: -1.4\nACTGC-A-AC-G--\nATC---T-G-CTAG\n-A-CC-CGAGACTG\nCGTA-A----ACGT\n\n5\n119.2\nGap Extend Mutation\nACT-G--CAACG-\nACT--G--CAACG-\nGap Extend Mutation\nACCCGAGAC-T-G\nACCCGAGAC--T-G\n\nPopulation Fitness Score: 696.0\n\nOrganism #1\nFitness Score: 27.0\nACT-G--CAAC-G---\nATC-T-G-C-TA--G-\nACC-CG-AGACT-G--\n---CG---TAAAC-GT\n\nOrganism #2\nFitness Score: 43.1\nACT--G--CAACG-\nATCTGCT-A----G\nACCC-GAG-ACT-G\n-C-G-TAA-ACGT-\n\nOrganism #3\nFitness Score: 67.0\nACTGC-A--AC-G\nATCTGCTA---G-\nACCCGAGAC-T-G\n--C-G-TAAACGT\n\nOrganism #4\nFitness Score: 38.3\nACT-G---CAACG-\nATCT-GCTA----G\nACCCGAGAC--T-G\n-C-GTAA-A-CGT-\n\nOrganism #5\nFitness Score: 119.2\nACT-GC-A-AC-G\nATCTGCTA---G-\nACCCGAGAC-T-G\n--C-G-TAAACGT\n\nOrganism #6\nFitness Score: 58.7\nACTGC-AAC-G--\nATC-TG-CTA-G-\nACCCGAGAC-TG-\n--CG--TAAACGT\n\nOrganism #7\nFitness Score: 57.8\nACT-GC-A-AC-G\nA-TCTG-CTAG--\nACCCGAGAC-T-G\n--C-G-TAAACGT\n\nOrganism #8\nFitness Score: 46.5\n--A--CTGCAACG\nATCTGCTA----G\nACC-CGA-GACTG\n-C-GTAAACG-T-\n\nOrganism #9\nFitness Score: 119.2\nACT-GC-A-AC-G\nATCTGCTA---G-\nACCCGAGAC-T-G\n--C-G-TAAACGT\n\nOrganism #10\nFitness Score: 119.2\nACT-GC-A-AC-G\nATCTGCTA---G-\nACCCGAGAC-T-G\n--C-G-TAAACGT\n\n4\n119.2\nGap Extend Mutation\nACCCGAGAC-T-G\nACCCGAGAC-T--G\nGap Reduce Mutation\nATCTGCTA----G\nATCTGCTA---G\n\nPopulation Fitness Score: 858.7\n\nOrganism #1\nFitness Score: 67.0\nACTGC-A--AC-G\nATCTGCTA---G-\nACCCGAGAC-T-G\n--C-G-TAAACGT\n\nOrganism #2\nFitness Score: 119.2\nACT-GC-A-AC-G\nATCTGCTA---G-\nACCCGAGAC-T-G\n--C-G-TAAACGT\n\nOrganism #3\nFitness Score: 27.3\n--A--CTGCAACG\nATCTG-CTA---G\nACC-CGA-GACTG\n-C-GTAAACG-T-\n\nOrganism #4\nFitness Score: 119.2\nACT-GC-A-AC-G\nATCTGCTA---G-\nACCCGAGAC-T-G\n--C-G-TAAACGT\n\nOrganism #5\nFitness Score: 74.1\nACT--GC-A-AC-G\nATCTGCTA----G-\nACCCGAGAC-T--G\n--C-G-TA-AACGT\n\nOrganism #6\nFitness Score: 119.2\nACT-GC-A-AC-G\nATCTGCTA---G-\nACCCGAGAC-T-G\n--C-G-TAAACGT\n\nOrganism #7\nFitness Score: 119.2\nACT-GC-A-AC-G\nATCTGCTA---G-\nACCCGAGAC-T-G\n--C-G-TAAACGT\n\nOrganism #8\nFitness Score: 119.2\nACT-GC-A-AC-G\nATCTGCTA---G-\nACCCGAGAC-T-G\n--C-G-TAAACGT\n\nOrganism #9\nFitness Score: 27.3\n--A--CTGCAACG\nATCTG-CTA---G\nACC-CGA-GACTG\n-C-GTAAACG-T-\n\nOrganism #10\nFitness Score: 67.0\nACTGC-A--AC-G\nATCTGCTA---G-\nACCCGAGAC-T-G\n--C-G-TAAACGT\n\n1\n119.2\nGap Extend Mutation\nACCCGAGAC-T-G\nACCCGAGAC-T--G\nGap Extend Mutation\nATCTGCTA---G-\nATCTGCTA----G-\nGap Open Mutation\nACT-GC-A-AC-G\n0\n3\n-\n-ACT-GC-A-AC-G\nGap Reduce Mutation\nACTGC-A--AC-G\nACTGCA--AC-G\n\nPopulation Fitness Score: 898.5000000000001\n\nOrganism #1\nFitness Score: 119.2\nACT-GC-A-AC-G\nATCTGCTA---G-\nACCCGAGAC-T-G\n--C-G-TAAACGT\n\nOrganism #2\nFitness Score: 88.4\nACTGC-A--AC-G\nATCTG-CTA---G\nACC-CGA-GACTG\n--C-G-TAAACGT\n\nOrganism #3\nFitness Score: 94.5\nA-CT-GC-A-AC-G\nATCTGCTA----G-\nACCCGAGAC-T--G\n--C-G-T-AAACGT\n\nOrganism #4\nFitness Score: 54.7\n-ACT-GC-A-AC-G\nATCTGCTA----G-\nACCCGAGAC--T-G\n---C-G-TAAACGT\n\nOrganism #5\nFitness Score: 67.0\nACTGC-A--AC-G\nATCTGCTA---G-\nACCCGAGAC-T-G\n--C-G-TAAACGT\n\nOrganism #6\nFitness Score: 42.8\n-ACT-GC-A-AC-G\nATCTGCTA----G-\nAC-CCGAGAC-T-G\n---C-G-TAAACGT\n\nOrganism #7\nFitness Score: 119.2\nACT-GC-A-AC-G\nATCTGCTA---G-\nACCCGAGAC-T-G\n--C-G-TAAACGT\n\nOrganism #8\nFitness Score: 119.2\nACT-GC-A-AC-G\nATCTGCTA---G-\nACCCGAGAC-T-G\n--C-G-TAAACGT\n\nOrganism #9\nFitness Score: 85.3\nACTG-CA--AC-G\nATCTGCTA---G-\nACCCGAGAC-T-G\n--C-G-TAAACGT\n\nOrganism #10\nFitness Score: 108.2\nACT-GC-A-A-C-G\nATCTGCT-A---G-\nACCCGAGAC-T--G\n--C-G-TA-AACGT\n\n0\n119.2\nGap Open Mutation\nACT-GC-A-AC-G\n9\n3\n---\nACT-GC-A----AC-G\nGap Reduce Mutation\nACCCGAGAC-T-G\nACCCGAGACT-G\nGap Extend Mutation\nACT-GC-A-AC-G\nACT-GC-A--AC-G\n\nBest solution:\nACT-GC-A-AC-G\nATCTGCTA---G-\nACCCGAGAC-T-G\n--C-G-TAAACGT\n"
    },
    {
     "output_type": "execute_result",
     "data": {
      "text/plain": "119.2"
     },
     "metadata": {},
     "execution_count": 6
    }
   ],
   "source": [
    "ga = GA_MSA(generations=5, mutation_rate=0.5)\n",
    "ga.run(sequences=sequences)"
   ]
  },
  {
   "cell_type": "code",
   "execution_count": null,
   "metadata": {},
   "outputs": [],
   "source": [
    "round(0.51)"
   ]
  },
  {
   "cell_type": "code",
   "execution_count": null,
   "metadata": {},
   "outputs": [],
   "source": []
  }
 ],
 "metadata": {
  "kernelspec": {
   "display_name": "Python 3.8.1 64-bit (conda)",
   "language": "python",
   "name": "python38164bitconda371e96bbeec54d919499d73869c5f752"
  },
  "language_info": {
   "codemirror_mode": {
    "name": "ipython",
    "version": 3
   },
   "file_extension": ".py",
   "mimetype": "text/x-python",
   "name": "python",
   "nbconvert_exporter": "python",
   "pygments_lexer": "ipython3",
   "version": "3.8.1-final"
  }
 },
 "nbformat": 4,
 "nbformat_minor": 4
}